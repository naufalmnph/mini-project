{
  "cells": [
    {
      "cell_type": "markdown",
      "metadata": {
        "id": "view-in-github",
        "colab_type": "text"
      },
      "source": [
        "<a href=\"https://colab.research.google.com/github/naufalmnph/mini-project/blob/main/3333210109_M_Naufal_Putra_Hadi_kelas_d.ipynb\" target=\"_parent\"><img src=\"https://colab.research.google.com/assets/colab-badge.svg\" alt=\"Open In Colab\"/></a>"
      ]
    },
    {
      "cell_type": "markdown",
      "source": [
        "## 1. Data Preprocessing"
      ],
      "metadata": {
        "id": "TFN6Of7TWe57"
      }
    },
    {
      "cell_type": "code",
      "source": [
        "https://drive.google.com/file/d/1bdeypgdzwG0yMZGRcwiMxx8PXEl6kqfF/view?usp=sharing"
      ],
      "metadata": {
        "id": "7LmVZA3BJtjM"
      },
      "execution_count": null,
      "outputs": []
    },
    {
      "cell_type": "code",
      "source": [],
      "metadata": {
        "id": "aVoBaHgDJ4M2"
      },
      "execution_count": null,
      "outputs": []
    },
    {
      "cell_type": "markdown",
      "source": [
        "## Overview\n",
        "\n",
        "Practice for Data Analytic Class in Merdeka Belajar \n",
        "\n",
        "## Objecive\n",
        "\n",
        "• Retrieving data \n",
        "\n",
        "• Cleansing, integrating\n",
        "dan transforming data\n",
        "\n",
        "• Data Preparation\n",
        "\n",
        "• Exploratory Data\n",
        "Analysis\n",
        "\n",
        "• Data Visualization\n"
      ],
      "metadata": {
        "id": "cvS878SumIw0"
      }
    },
    {
      "cell_type": "markdown",
      "source": [
        "**About Dataset**\n",
        "\n",
        "This is a snapshot of a dataset created by Tony Pin on Melbourne real estate data. It was scraped from publicly available results posted every week from Domain.com.au. The dataset includes Address, Type of Real estate, Suburb, Method of Selling, Rooms, Price, Real Estate Agent, Date of Sale and distance from C.B.D.\n",
        "\n",
        "This is intended as a static (unchanging) snapshot of https://www.kaggle.com/anthonypino/melbourne-housing-market. It was created in September 2017. Additionally, homes with no Price have been removed.\n",
        "\n",
        "Dataset description & download https://www.kaggle.com/datasets/dansbecker/melbourne-housing-snapshot"
      ],
      "metadata": {
        "id": "0EcHLMXgZr5f"
      }
    },
    {
      "cell_type": "markdown",
      "source": [
        "**1.1 Importing Library**"
      ],
      "metadata": {
        "id": "IADUBKDnWr3s"
      }
    },
    {
      "cell_type": "code",
      "execution_count": 1,
      "metadata": {
        "id": "CvNhhTZtGoGV"
      },
      "outputs": [],
      "source": [
        "import pandas as pd\n",
        "import numpy as np\n",
        "import matplotlib.pyplot as plt\n",
        "from sklearn.preprocessing import LabelEncoder\n",
        "\n",
        "from sklearn.model_selection import train_test_split\n",
        "from sklearn.model_selection import cross_val_score\n",
        "from sklearn.model_selection import KFold\n",
        "from sklearn.metrics import accuracy_score"
      ]
    },
    {
      "cell_type": "markdown",
      "source": [
        "**1.2 Importing Dataset**"
      ],
      "metadata": {
        "id": "Ydt444CDW46r"
      }
    },
    {
      "cell_type": "code",
      "execution_count": 2,
      "metadata": {
        "id": "SpkeEnsdTfH3",
        "colab": {
          "base_uri": "https://localhost:8080/"
        },
        "outputId": "44a541e9-c356-4e55-ab40-b473cddedf99"
      },
      "outputs": [
        {
          "output_type": "stream",
          "name": "stdout",
          "text": [
            "/usr/local/lib/python3.10/dist-packages/gdown/cli.py:121: FutureWarning: Option `--id` was deprecated in version 4.3.1 and will be removed in 5.0. You don't need to pass it anymore to use a file ID.\n",
            "  warnings.warn(\n",
            "Downloading...\n",
            "From: https://drive.google.com/uc?id=1bdeypgdzwG0yMZGRcwiMxx8PXEl6kqfF\n",
            "To: /content/Practice2.ipynb\n",
            "100% 2.01M/2.01M [00:00<00:00, 153MB/s]\n"
          ]
        }
      ],
      "source": [
        "!gdown --id 1bdeypgdzwG0yMZGRcwiMxx8PXEl6kqfF"
      ]
    },
    {
      "cell_type": "code",
      "source": [
        "from google.colab import drive\n",
        "drive.mount('/content/drive')"
      ],
      "metadata": {
        "colab": {
          "base_uri": "https://localhost:8080/"
        },
        "id": "YPJSXIRAJMZL",
        "outputId": "a321a4b4-a91c-41a0-99fa-0d786bd12bce"
      },
      "execution_count": 4,
      "outputs": [
        {
          "output_type": "stream",
          "name": "stdout",
          "text": [
            "Drive already mounted at /content/drive; to attempt to forcibly remount, call drive.mount(\"/content/drive\", force_remount=True).\n"
          ]
        }
      ]
    },
    {
      "cell_type": "code",
      "source": [
        "drive.mount(\"/content/drive\", force_remount=True)"
      ],
      "metadata": {
        "colab": {
          "base_uri": "https://localhost:8080/"
        },
        "id": "W7ozhJJQLUbl",
        "outputId": "852d51c4-19a7-4098-9a8a-bbef66716a9e"
      },
      "execution_count": 5,
      "outputs": [
        {
          "output_type": "stream",
          "name": "stdout",
          "text": [
            "Mounted at /content/drive\n"
          ]
        }
      ]
    },
    {
      "cell_type": "code",
      "source": [
        "import pandas as pd\n",
        "dataset = pd.read_csv('/content/drive/MyDrive/analitika/nba2k-full.csv')\n",
        "dataset"
      ],
      "metadata": {
        "colab": {
          "base_uri": "https://localhost:8080/",
          "height": 973
        },
        "id": "N0fME_84YBzx",
        "outputId": "7777dfb4-ea53-4c0b-b92f-d5787fbb8aae"
      },
      "execution_count": 6,
      "outputs": [
        {
          "output_type": "execute_result",
          "data": {
            "text/plain": [
              "                 full_name  rating jersey                   team position  \\\n",
              "0             LeBron James      97    #23     Los Angeles Lakers        F   \n",
              "1            Kawhi Leonard      97     #2   Los Angeles Clippers        F   \n",
              "2    Giannis Antetokounmpo      96    #34        Milwaukee Bucks      F-G   \n",
              "3             Kevin Durant      96     #7          Brooklyn Nets        F   \n",
              "4             James Harden      96    #13        Houston Rockets        G   \n",
              "..                     ...     ...    ...                    ...      ...   \n",
              "459             Chris Paul      88     #3  Oklahoma City Thunder        G   \n",
              "460           Bradley Beal      88     #3     Washington Wizards        G   \n",
              "461            Rudy Gobert      87    #27              Utah Jazz        C   \n",
              "462             Kyle Lowry      87     #7        Toronto Raptors        G   \n",
              "463     Kristaps Porzingis      87     #6       Dallas Mavericks      F-C   \n",
              "\n",
              "        b_day       height                weight     salary country  \\\n",
              "0    12/30/84   6-9 / 2.06  250 lbs. / 113.4 kg.  $37436858     USA   \n",
              "1    06/29/91   6-7 / 2.01  225 lbs. / 102.1 kg.  $32742000     USA   \n",
              "2    12/06/94  6-11 / 2.11  242 lbs. / 109.8 kg.  $25842697  Greece   \n",
              "3    09/29/88  6-10 / 2.08  230 lbs. / 104.3 kg.  $37199000     USA   \n",
              "4    08/26/89   6-5 / 1.96   220 lbs. / 99.8 kg.  $38199000     USA   \n",
              "..        ...          ...                   ...        ...     ...   \n",
              "459  05/06/85   6-1 / 1.85   175 lbs. / 79.4 kg.  $41358814     USA   \n",
              "460  06/28/93   6-3 / 1.91   207 lbs. / 93.9 kg.  $28751774     USA   \n",
              "461  06/26/92   7-1 / 2.16    238 lbs. / 108 kg.  $27525281  France   \n",
              "462  03/25/86   6-0 / 1.83     205 lbs. / 93 kg.  $30500000     USA   \n",
              "463  08/02/95   7-3 / 2.21   220 lbs. / 99.8 kg.  $29467800  Latvia   \n",
              "\n",
              "     draft_year draft_round draft_peak          college  version  \n",
              "0          2003           1          1              NaN  NBA2k20  \n",
              "1          2011           1         15  San Diego State  NBA2k20  \n",
              "2          2013           1         15              NaN  NBA2k20  \n",
              "3          2007           1          2            Texas  NBA2k20  \n",
              "4          2009           1          3    Arizona State  NBA2k20  \n",
              "..          ...         ...        ...              ...      ...  \n",
              "459        2005           1          4      Wake Forest  NBA2k21  \n",
              "460        2012           1          3          Florida  NBA2k21  \n",
              "461        2013           1         27              NaN  NBA2k21  \n",
              "462        2006           1         24        Villanova  NBA2k21  \n",
              "463        2015           1          4              NaN  NBA2k21  \n",
              "\n",
              "[464 rows x 15 columns]"
            ],
            "text/html": [
              "\n",
              "  <div id=\"df-f3ccec4e-afc0-48f8-a3b0-aa92b6a49ec3\">\n",
              "    <div class=\"colab-df-container\">\n",
              "      <div>\n",
              "<style scoped>\n",
              "    .dataframe tbody tr th:only-of-type {\n",
              "        vertical-align: middle;\n",
              "    }\n",
              "\n",
              "    .dataframe tbody tr th {\n",
              "        vertical-align: top;\n",
              "    }\n",
              "\n",
              "    .dataframe thead th {\n",
              "        text-align: right;\n",
              "    }\n",
              "</style>\n",
              "<table border=\"1\" class=\"dataframe\">\n",
              "  <thead>\n",
              "    <tr style=\"text-align: right;\">\n",
              "      <th></th>\n",
              "      <th>full_name</th>\n",
              "      <th>rating</th>\n",
              "      <th>jersey</th>\n",
              "      <th>team</th>\n",
              "      <th>position</th>\n",
              "      <th>b_day</th>\n",
              "      <th>height</th>\n",
              "      <th>weight</th>\n",
              "      <th>salary</th>\n",
              "      <th>country</th>\n",
              "      <th>draft_year</th>\n",
              "      <th>draft_round</th>\n",
              "      <th>draft_peak</th>\n",
              "      <th>college</th>\n",
              "      <th>version</th>\n",
              "    </tr>\n",
              "  </thead>\n",
              "  <tbody>\n",
              "    <tr>\n",
              "      <th>0</th>\n",
              "      <td>LeBron James</td>\n",
              "      <td>97</td>\n",
              "      <td>#23</td>\n",
              "      <td>Los Angeles Lakers</td>\n",
              "      <td>F</td>\n",
              "      <td>12/30/84</td>\n",
              "      <td>6-9 / 2.06</td>\n",
              "      <td>250 lbs. / 113.4 kg.</td>\n",
              "      <td>$37436858</td>\n",
              "      <td>USA</td>\n",
              "      <td>2003</td>\n",
              "      <td>1</td>\n",
              "      <td>1</td>\n",
              "      <td>NaN</td>\n",
              "      <td>NBA2k20</td>\n",
              "    </tr>\n",
              "    <tr>\n",
              "      <th>1</th>\n",
              "      <td>Kawhi Leonard</td>\n",
              "      <td>97</td>\n",
              "      <td>#2</td>\n",
              "      <td>Los Angeles Clippers</td>\n",
              "      <td>F</td>\n",
              "      <td>06/29/91</td>\n",
              "      <td>6-7 / 2.01</td>\n",
              "      <td>225 lbs. / 102.1 kg.</td>\n",
              "      <td>$32742000</td>\n",
              "      <td>USA</td>\n",
              "      <td>2011</td>\n",
              "      <td>1</td>\n",
              "      <td>15</td>\n",
              "      <td>San Diego State</td>\n",
              "      <td>NBA2k20</td>\n",
              "    </tr>\n",
              "    <tr>\n",
              "      <th>2</th>\n",
              "      <td>Giannis Antetokounmpo</td>\n",
              "      <td>96</td>\n",
              "      <td>#34</td>\n",
              "      <td>Milwaukee Bucks</td>\n",
              "      <td>F-G</td>\n",
              "      <td>12/06/94</td>\n",
              "      <td>6-11 / 2.11</td>\n",
              "      <td>242 lbs. / 109.8 kg.</td>\n",
              "      <td>$25842697</td>\n",
              "      <td>Greece</td>\n",
              "      <td>2013</td>\n",
              "      <td>1</td>\n",
              "      <td>15</td>\n",
              "      <td>NaN</td>\n",
              "      <td>NBA2k20</td>\n",
              "    </tr>\n",
              "    <tr>\n",
              "      <th>3</th>\n",
              "      <td>Kevin Durant</td>\n",
              "      <td>96</td>\n",
              "      <td>#7</td>\n",
              "      <td>Brooklyn Nets</td>\n",
              "      <td>F</td>\n",
              "      <td>09/29/88</td>\n",
              "      <td>6-10 / 2.08</td>\n",
              "      <td>230 lbs. / 104.3 kg.</td>\n",
              "      <td>$37199000</td>\n",
              "      <td>USA</td>\n",
              "      <td>2007</td>\n",
              "      <td>1</td>\n",
              "      <td>2</td>\n",
              "      <td>Texas</td>\n",
              "      <td>NBA2k20</td>\n",
              "    </tr>\n",
              "    <tr>\n",
              "      <th>4</th>\n",
              "      <td>James Harden</td>\n",
              "      <td>96</td>\n",
              "      <td>#13</td>\n",
              "      <td>Houston Rockets</td>\n",
              "      <td>G</td>\n",
              "      <td>08/26/89</td>\n",
              "      <td>6-5 / 1.96</td>\n",
              "      <td>220 lbs. / 99.8 kg.</td>\n",
              "      <td>$38199000</td>\n",
              "      <td>USA</td>\n",
              "      <td>2009</td>\n",
              "      <td>1</td>\n",
              "      <td>3</td>\n",
              "      <td>Arizona State</td>\n",
              "      <td>NBA2k20</td>\n",
              "    </tr>\n",
              "    <tr>\n",
              "      <th>...</th>\n",
              "      <td>...</td>\n",
              "      <td>...</td>\n",
              "      <td>...</td>\n",
              "      <td>...</td>\n",
              "      <td>...</td>\n",
              "      <td>...</td>\n",
              "      <td>...</td>\n",
              "      <td>...</td>\n",
              "      <td>...</td>\n",
              "      <td>...</td>\n",
              "      <td>...</td>\n",
              "      <td>...</td>\n",
              "      <td>...</td>\n",
              "      <td>...</td>\n",
              "      <td>...</td>\n",
              "    </tr>\n",
              "    <tr>\n",
              "      <th>459</th>\n",
              "      <td>Chris Paul</td>\n",
              "      <td>88</td>\n",
              "      <td>#3</td>\n",
              "      <td>Oklahoma City Thunder</td>\n",
              "      <td>G</td>\n",
              "      <td>05/06/85</td>\n",
              "      <td>6-1 / 1.85</td>\n",
              "      <td>175 lbs. / 79.4 kg.</td>\n",
              "      <td>$41358814</td>\n",
              "      <td>USA</td>\n",
              "      <td>2005</td>\n",
              "      <td>1</td>\n",
              "      <td>4</td>\n",
              "      <td>Wake Forest</td>\n",
              "      <td>NBA2k21</td>\n",
              "    </tr>\n",
              "    <tr>\n",
              "      <th>460</th>\n",
              "      <td>Bradley Beal</td>\n",
              "      <td>88</td>\n",
              "      <td>#3</td>\n",
              "      <td>Washington Wizards</td>\n",
              "      <td>G</td>\n",
              "      <td>06/28/93</td>\n",
              "      <td>6-3 / 1.91</td>\n",
              "      <td>207 lbs. / 93.9 kg.</td>\n",
              "      <td>$28751774</td>\n",
              "      <td>USA</td>\n",
              "      <td>2012</td>\n",
              "      <td>1</td>\n",
              "      <td>3</td>\n",
              "      <td>Florida</td>\n",
              "      <td>NBA2k21</td>\n",
              "    </tr>\n",
              "    <tr>\n",
              "      <th>461</th>\n",
              "      <td>Rudy Gobert</td>\n",
              "      <td>87</td>\n",
              "      <td>#27</td>\n",
              "      <td>Utah Jazz</td>\n",
              "      <td>C</td>\n",
              "      <td>06/26/92</td>\n",
              "      <td>7-1 / 2.16</td>\n",
              "      <td>238 lbs. / 108 kg.</td>\n",
              "      <td>$27525281</td>\n",
              "      <td>France</td>\n",
              "      <td>2013</td>\n",
              "      <td>1</td>\n",
              "      <td>27</td>\n",
              "      <td>NaN</td>\n",
              "      <td>NBA2k21</td>\n",
              "    </tr>\n",
              "    <tr>\n",
              "      <th>462</th>\n",
              "      <td>Kyle Lowry</td>\n",
              "      <td>87</td>\n",
              "      <td>#7</td>\n",
              "      <td>Toronto Raptors</td>\n",
              "      <td>G</td>\n",
              "      <td>03/25/86</td>\n",
              "      <td>6-0 / 1.83</td>\n",
              "      <td>205 lbs. / 93 kg.</td>\n",
              "      <td>$30500000</td>\n",
              "      <td>USA</td>\n",
              "      <td>2006</td>\n",
              "      <td>1</td>\n",
              "      <td>24</td>\n",
              "      <td>Villanova</td>\n",
              "      <td>NBA2k21</td>\n",
              "    </tr>\n",
              "    <tr>\n",
              "      <th>463</th>\n",
              "      <td>Kristaps Porzingis</td>\n",
              "      <td>87</td>\n",
              "      <td>#6</td>\n",
              "      <td>Dallas Mavericks</td>\n",
              "      <td>F-C</td>\n",
              "      <td>08/02/95</td>\n",
              "      <td>7-3 / 2.21</td>\n",
              "      <td>220 lbs. / 99.8 kg.</td>\n",
              "      <td>$29467800</td>\n",
              "      <td>Latvia</td>\n",
              "      <td>2015</td>\n",
              "      <td>1</td>\n",
              "      <td>4</td>\n",
              "      <td>NaN</td>\n",
              "      <td>NBA2k21</td>\n",
              "    </tr>\n",
              "  </tbody>\n",
              "</table>\n",
              "<p>464 rows × 15 columns</p>\n",
              "</div>\n",
              "      <button class=\"colab-df-convert\" onclick=\"convertToInteractive('df-f3ccec4e-afc0-48f8-a3b0-aa92b6a49ec3')\"\n",
              "              title=\"Convert this dataframe to an interactive table.\"\n",
              "              style=\"display:none;\">\n",
              "        \n",
              "  <svg xmlns=\"http://www.w3.org/2000/svg\" height=\"24px\"viewBox=\"0 0 24 24\"\n",
              "       width=\"24px\">\n",
              "    <path d=\"M0 0h24v24H0V0z\" fill=\"none\"/>\n",
              "    <path d=\"M18.56 5.44l.94 2.06.94-2.06 2.06-.94-2.06-.94-.94-2.06-.94 2.06-2.06.94zm-11 1L8.5 8.5l.94-2.06 2.06-.94-2.06-.94L8.5 2.5l-.94 2.06-2.06.94zm10 10l.94 2.06.94-2.06 2.06-.94-2.06-.94-.94-2.06-.94 2.06-2.06.94z\"/><path d=\"M17.41 7.96l-1.37-1.37c-.4-.4-.92-.59-1.43-.59-.52 0-1.04.2-1.43.59L10.3 9.45l-7.72 7.72c-.78.78-.78 2.05 0 2.83L4 21.41c.39.39.9.59 1.41.59.51 0 1.02-.2 1.41-.59l7.78-7.78 2.81-2.81c.8-.78.8-2.07 0-2.86zM5.41 20L4 18.59l7.72-7.72 1.47 1.35L5.41 20z\"/>\n",
              "  </svg>\n",
              "      </button>\n",
              "      \n",
              "  <style>\n",
              "    .colab-df-container {\n",
              "      display:flex;\n",
              "      flex-wrap:wrap;\n",
              "      gap: 12px;\n",
              "    }\n",
              "\n",
              "    .colab-df-convert {\n",
              "      background-color: #E8F0FE;\n",
              "      border: none;\n",
              "      border-radius: 50%;\n",
              "      cursor: pointer;\n",
              "      display: none;\n",
              "      fill: #1967D2;\n",
              "      height: 32px;\n",
              "      padding: 0 0 0 0;\n",
              "      width: 32px;\n",
              "    }\n",
              "\n",
              "    .colab-df-convert:hover {\n",
              "      background-color: #E2EBFA;\n",
              "      box-shadow: 0px 1px 2px rgba(60, 64, 67, 0.3), 0px 1px 3px 1px rgba(60, 64, 67, 0.15);\n",
              "      fill: #174EA6;\n",
              "    }\n",
              "\n",
              "    [theme=dark] .colab-df-convert {\n",
              "      background-color: #3B4455;\n",
              "      fill: #D2E3FC;\n",
              "    }\n",
              "\n",
              "    [theme=dark] .colab-df-convert:hover {\n",
              "      background-color: #434B5C;\n",
              "      box-shadow: 0px 1px 3px 1px rgba(0, 0, 0, 0.15);\n",
              "      filter: drop-shadow(0px 1px 2px rgba(0, 0, 0, 0.3));\n",
              "      fill: #FFFFFF;\n",
              "    }\n",
              "  </style>\n",
              "\n",
              "      <script>\n",
              "        const buttonEl =\n",
              "          document.querySelector('#df-f3ccec4e-afc0-48f8-a3b0-aa92b6a49ec3 button.colab-df-convert');\n",
              "        buttonEl.style.display =\n",
              "          google.colab.kernel.accessAllowed ? 'block' : 'none';\n",
              "\n",
              "        async function convertToInteractive(key) {\n",
              "          const element = document.querySelector('#df-f3ccec4e-afc0-48f8-a3b0-aa92b6a49ec3');\n",
              "          const dataTable =\n",
              "            await google.colab.kernel.invokeFunction('convertToInteractive',\n",
              "                                                     [key], {});\n",
              "          if (!dataTable) return;\n",
              "\n",
              "          const docLinkHtml = 'Like what you see? Visit the ' +\n",
              "            '<a target=\"_blank\" href=https://colab.research.google.com/notebooks/data_table.ipynb>data table notebook</a>'\n",
              "            + ' to learn more about interactive tables.';\n",
              "          element.innerHTML = '';\n",
              "          dataTable['output_type'] = 'display_data';\n",
              "          await google.colab.output.renderOutput(dataTable, element);\n",
              "          const docLink = document.createElement('div');\n",
              "          docLink.innerHTML = docLinkHtml;\n",
              "          element.appendChild(docLink);\n",
              "        }\n",
              "      </script>\n",
              "    </div>\n",
              "  </div>\n",
              "  "
            ]
          },
          "metadata": {},
          "execution_count": 6
        }
      ]
    },
    {
      "cell_type": "markdown",
      "source": [
        "## 2. Exploratory Data"
      ],
      "metadata": {
        "id": "UDDwMkOVdAS-"
      }
    },
    {
      "cell_type": "code",
      "source": [
        "dataset.shape"
      ],
      "metadata": {
        "colab": {
          "base_uri": "https://localhost:8080/"
        },
        "id": "gfY3IjMzdDsN",
        "outputId": "42ea8dd3-1541-4436-d43a-83a6c1bfa704"
      },
      "execution_count": 7,
      "outputs": [
        {
          "output_type": "execute_result",
          "data": {
            "text/plain": [
              "(464, 15)"
            ]
          },
          "metadata": {},
          "execution_count": 7
        }
      ]
    },
    {
      "cell_type": "code",
      "source": [
        "dataset.columns"
      ],
      "metadata": {
        "colab": {
          "base_uri": "https://localhost:8080/"
        },
        "id": "v2bT3bcCdad5",
        "outputId": "f1565caa-6760-43cb-fe12-ab1888a77817"
      },
      "execution_count": 8,
      "outputs": [
        {
          "output_type": "execute_result",
          "data": {
            "text/plain": [
              "Index(['full_name', 'rating', 'jersey', 'team', 'position', 'b_day', 'height',\n",
              "       'weight', 'salary', 'country', 'draft_year', 'draft_round',\n",
              "       'draft_peak', 'college', 'version'],\n",
              "      dtype='object')"
            ]
          },
          "metadata": {},
          "execution_count": 8
        }
      ]
    },
    {
      "cell_type": "code",
      "source": [
        "dataset.dtypes"
      ],
      "metadata": {
        "colab": {
          "base_uri": "https://localhost:8080/"
        },
        "id": "DGucyPqGdstV",
        "outputId": "234a612d-4bb7-44df-f3f6-cb3935a85724"
      },
      "execution_count": 9,
      "outputs": [
        {
          "output_type": "execute_result",
          "data": {
            "text/plain": [
              "full_name      object\n",
              "rating          int64\n",
              "jersey         object\n",
              "team           object\n",
              "position       object\n",
              "b_day          object\n",
              "height         object\n",
              "weight         object\n",
              "salary         object\n",
              "country        object\n",
              "draft_year      int64\n",
              "draft_round    object\n",
              "draft_peak     object\n",
              "college        object\n",
              "version        object\n",
              "dtype: object"
            ]
          },
          "metadata": {},
          "execution_count": 9
        }
      ]
    },
    {
      "cell_type": "code",
      "source": [
        "dataset.info()"
      ],
      "metadata": {
        "colab": {
          "base_uri": "https://localhost:8080/"
        },
        "id": "R5lpoJMgdqdl",
        "outputId": "194fa2c6-f5fa-4b63-c949-1167bda8179b"
      },
      "execution_count": 10,
      "outputs": [
        {
          "output_type": "stream",
          "name": "stdout",
          "text": [
            "<class 'pandas.core.frame.DataFrame'>\n",
            "RangeIndex: 464 entries, 0 to 463\n",
            "Data columns (total 15 columns):\n",
            " #   Column       Non-Null Count  Dtype \n",
            "---  ------       --------------  ----- \n",
            " 0   full_name    464 non-null    object\n",
            " 1   rating       464 non-null    int64 \n",
            " 2   jersey       464 non-null    object\n",
            " 3   team         441 non-null    object\n",
            " 4   position     464 non-null    object\n",
            " 5   b_day        464 non-null    object\n",
            " 6   height       464 non-null    object\n",
            " 7   weight       464 non-null    object\n",
            " 8   salary       464 non-null    object\n",
            " 9   country      464 non-null    object\n",
            " 10  draft_year   464 non-null    int64 \n",
            " 11  draft_round  464 non-null    object\n",
            " 12  draft_peak   464 non-null    object\n",
            " 13  college      388 non-null    object\n",
            " 14  version      464 non-null    object\n",
            "dtypes: int64(2), object(13)\n",
            "memory usage: 54.5+ KB\n"
          ]
        }
      ]
    },
    {
      "cell_type": "code",
      "source": [
        "dataset.nunique()"
      ],
      "metadata": {
        "colab": {
          "base_uri": "https://localhost:8080/"
        },
        "id": "iAJrbGiuf-8c",
        "outputId": "f2200185-7538-435c-f884-b56a41aa535d"
      },
      "execution_count": 11,
      "outputs": [
        {
          "output_type": "execute_result",
          "data": {
            "text/plain": [
              "full_name      429\n",
              "rating          31\n",
              "jersey          52\n",
              "team            30\n",
              "position         7\n",
              "b_day          415\n",
              "height          20\n",
              "weight          84\n",
              "salary         336\n",
              "country         39\n",
              "draft_year      18\n",
              "draft_round      3\n",
              "draft_peak      57\n",
              "college        109\n",
              "version          3\n",
              "dtype: int64"
            ]
          },
          "metadata": {},
          "execution_count": 11
        }
      ]
    },
    {
      "cell_type": "markdown",
      "source": [
        "**2.1 Handling Missing Value**"
      ],
      "metadata": {
        "id": "SsvcPPw9ekvS"
      }
    },
    {
      "cell_type": "markdown",
      "source": [
        "Let's assume unknown value as missing value since unknown means not known or no values"
      ],
      "metadata": {
        "id": "tkkOl04Ee_xV"
      }
    },
    {
      "cell_type": "code",
      "source": [
        "dataset.isnull().sum()"
      ],
      "metadata": {
        "colab": {
          "base_uri": "https://localhost:8080/"
        },
        "id": "rsrJsSO8fW7M",
        "outputId": "f17709cb-fda9-41ab-9281-3ab8fbef0959"
      },
      "execution_count": 13,
      "outputs": [
        {
          "output_type": "execute_result",
          "data": {
            "text/plain": [
              "full_name       0\n",
              "rating          0\n",
              "jersey          0\n",
              "team           23\n",
              "position        0\n",
              "b_day           0\n",
              "height          0\n",
              "weight          0\n",
              "salary          0\n",
              "country         0\n",
              "draft_year      0\n",
              "draft_round     0\n",
              "draft_peak      0\n",
              "college        76\n",
              "version         0\n",
              "dtype: int64"
            ]
          },
          "metadata": {},
          "execution_count": 13
        }
      ]
    },
    {
      "cell_type": "code",
      "source": [
        "dataset['college'].dtypes"
      ],
      "metadata": {
        "colab": {
          "base_uri": "https://localhost:8080/"
        },
        "id": "hw2FxOlorXI8",
        "outputId": "d0e5a089-1d6f-489e-b6ca-a2a029392bf7"
      },
      "execution_count": 15,
      "outputs": [
        {
          "output_type": "execute_result",
          "data": {
            "text/plain": [
              "dtype('O')"
            ]
          },
          "metadata": {},
          "execution_count": 15
        }
      ]
    },
    {
      "cell_type": "code",
      "source": [
        "dataset['team'].dtypes"
      ],
      "metadata": {
        "colab": {
          "base_uri": "https://localhost:8080/"
        },
        "id": "1ZQ3-sq0rg0J",
        "outputId": "50509a96-7605-45a8-d1c3-8bb71e003c1a"
      },
      "execution_count": 16,
      "outputs": [
        {
          "output_type": "execute_result",
          "data": {
            "text/plain": [
              "dtype('O')"
            ]
          },
          "metadata": {},
          "execution_count": 16
        }
      ]
    },
    {
      "cell_type": "code",
      "source": [
        "dataset['rating'].dtypes"
      ],
      "metadata": {
        "colab": {
          "base_uri": "https://localhost:8080/"
        },
        "id": "VMWvLZjcrkuY",
        "outputId": "209b68d3-7971-42bc-9f21-3ceea5f9ee88"
      },
      "execution_count": 17,
      "outputs": [
        {
          "output_type": "execute_result",
          "data": {
            "text/plain": [
              "dtype('int64')"
            ]
          },
          "metadata": {},
          "execution_count": 17
        }
      ]
    },
    {
      "cell_type": "code",
      "source": [
        "dataset['draft_peak'].dtypes"
      ],
      "metadata": {
        "colab": {
          "base_uri": "https://localhost:8080/"
        },
        "id": "TDKDGdswrlUm",
        "outputId": "16516b9e-8ef1-4cf6-c9f8-d1d4f71bddde"
      },
      "execution_count": 18,
      "outputs": [
        {
          "output_type": "execute_result",
          "data": {
            "text/plain": [
              "dtype('O')"
            ]
          },
          "metadata": {},
          "execution_count": 18
        }
      ]
    },
    {
      "cell_type": "markdown",
      "source": [
        "Perform imputer to handle missing value in numerical data"
      ],
      "metadata": {
        "id": "v6QJEYLbpcpG"
      }
    },
    {
      "cell_type": "code",
      "source": [
        "from sklearn.impute import SimpleImputer\n",
        "imputer = SimpleImputer(missing_values= np.nan, strategy='mean')\n",
        "imputer"
      ],
      "metadata": {
        "colab": {
          "base_uri": "https://localhost:8080/",
          "height": 51
        },
        "id": "02J19YzBjpuO",
        "outputId": "c9c557c6-5e64-4ab5-afec-eca9a0e71459"
      },
      "execution_count": 19,
      "outputs": [
        {
          "output_type": "execute_result",
          "data": {
            "text/plain": [
              "SimpleImputer()"
            ],
            "text/html": [
              "<style>#sk-container-id-1 {color: black;background-color: white;}#sk-container-id-1 pre{padding: 0;}#sk-container-id-1 div.sk-toggleable {background-color: white;}#sk-container-id-1 label.sk-toggleable__label {cursor: pointer;display: block;width: 100%;margin-bottom: 0;padding: 0.3em;box-sizing: border-box;text-align: center;}#sk-container-id-1 label.sk-toggleable__label-arrow:before {content: \"▸\";float: left;margin-right: 0.25em;color: #696969;}#sk-container-id-1 label.sk-toggleable__label-arrow:hover:before {color: black;}#sk-container-id-1 div.sk-estimator:hover label.sk-toggleable__label-arrow:before {color: black;}#sk-container-id-1 div.sk-toggleable__content {max-height: 0;max-width: 0;overflow: hidden;text-align: left;background-color: #f0f8ff;}#sk-container-id-1 div.sk-toggleable__content pre {margin: 0.2em;color: black;border-radius: 0.25em;background-color: #f0f8ff;}#sk-container-id-1 input.sk-toggleable__control:checked~div.sk-toggleable__content {max-height: 200px;max-width: 100%;overflow: auto;}#sk-container-id-1 input.sk-toggleable__control:checked~label.sk-toggleable__label-arrow:before {content: \"▾\";}#sk-container-id-1 div.sk-estimator input.sk-toggleable__control:checked~label.sk-toggleable__label {background-color: #d4ebff;}#sk-container-id-1 div.sk-label input.sk-toggleable__control:checked~label.sk-toggleable__label {background-color: #d4ebff;}#sk-container-id-1 input.sk-hidden--visually {border: 0;clip: rect(1px 1px 1px 1px);clip: rect(1px, 1px, 1px, 1px);height: 1px;margin: -1px;overflow: hidden;padding: 0;position: absolute;width: 1px;}#sk-container-id-1 div.sk-estimator {font-family: monospace;background-color: #f0f8ff;border: 1px dotted black;border-radius: 0.25em;box-sizing: border-box;margin-bottom: 0.5em;}#sk-container-id-1 div.sk-estimator:hover {background-color: #d4ebff;}#sk-container-id-1 div.sk-parallel-item::after {content: \"\";width: 100%;border-bottom: 1px solid gray;flex-grow: 1;}#sk-container-id-1 div.sk-label:hover label.sk-toggleable__label {background-color: #d4ebff;}#sk-container-id-1 div.sk-serial::before {content: \"\";position: absolute;border-left: 1px solid gray;box-sizing: border-box;top: 0;bottom: 0;left: 50%;z-index: 0;}#sk-container-id-1 div.sk-serial {display: flex;flex-direction: column;align-items: center;background-color: white;padding-right: 0.2em;padding-left: 0.2em;position: relative;}#sk-container-id-1 div.sk-item {position: relative;z-index: 1;}#sk-container-id-1 div.sk-parallel {display: flex;align-items: stretch;justify-content: center;background-color: white;position: relative;}#sk-container-id-1 div.sk-item::before, #sk-container-id-1 div.sk-parallel-item::before {content: \"\";position: absolute;border-left: 1px solid gray;box-sizing: border-box;top: 0;bottom: 0;left: 50%;z-index: -1;}#sk-container-id-1 div.sk-parallel-item {display: flex;flex-direction: column;z-index: 1;position: relative;background-color: white;}#sk-container-id-1 div.sk-parallel-item:first-child::after {align-self: flex-end;width: 50%;}#sk-container-id-1 div.sk-parallel-item:last-child::after {align-self: flex-start;width: 50%;}#sk-container-id-1 div.sk-parallel-item:only-child::after {width: 0;}#sk-container-id-1 div.sk-dashed-wrapped {border: 1px dashed gray;margin: 0 0.4em 0.5em 0.4em;box-sizing: border-box;padding-bottom: 0.4em;background-color: white;}#sk-container-id-1 div.sk-label label {font-family: monospace;font-weight: bold;display: inline-block;line-height: 1.2em;}#sk-container-id-1 div.sk-label-container {text-align: center;}#sk-container-id-1 div.sk-container {/* jupyter's `normalize.less` sets `[hidden] { display: none; }` but bootstrap.min.css set `[hidden] { display: none !important; }` so we also need the `!important` here to be able to override the default hidden behavior on the sphinx rendered scikit-learn.org. See: https://github.com/scikit-learn/scikit-learn/issues/21755 */display: inline-block !important;position: relative;}#sk-container-id-1 div.sk-text-repr-fallback {display: none;}</style><div id=\"sk-container-id-1\" class=\"sk-top-container\"><div class=\"sk-text-repr-fallback\"><pre>SimpleImputer()</pre><b>In a Jupyter environment, please rerun this cell to show the HTML representation or trust the notebook. <br />On GitHub, the HTML representation is unable to render, please try loading this page with nbviewer.org.</b></div><div class=\"sk-container\" hidden><div class=\"sk-item\"><div class=\"sk-estimator sk-toggleable\"><input class=\"sk-toggleable__control sk-hidden--visually\" id=\"sk-estimator-id-1\" type=\"checkbox\" checked><label for=\"sk-estimator-id-1\" class=\"sk-toggleable__label sk-toggleable__label-arrow\">SimpleImputer</label><div class=\"sk-toggleable__content\"><pre>SimpleImputer()</pre></div></div></div></div></div>"
            ]
          },
          "metadata": {},
          "execution_count": 19
        }
      ]
    },
    {
      "cell_type": "markdown",
      "source": [
        "Using drop column tohandle missing value on categorical or object data"
      ],
      "metadata": {
        "id": "akm-xmRdphDb"
      }
    },
    {
      "cell_type": "code",
      "execution_count": 23,
      "metadata": {
        "colab": {
          "base_uri": "https://localhost:8080/"
        },
        "id": "APXYNKqq0J3k",
        "outputId": "84671d28-e16e-4eb5-c86a-ce9a801af3c7"
      },
      "outputs": [
        {
          "output_type": "execute_result",
          "data": {
            "text/plain": [
              "full_name      0\n",
              "rating         0\n",
              "jersey         0\n",
              "position       0\n",
              "b_day          0\n",
              "height         0\n",
              "weight         0\n",
              "salary         0\n",
              "country        0\n",
              "draft_year     0\n",
              "draft_round    0\n",
              "draft_peak     0\n",
              "version        0\n",
              "dtype: int64"
            ]
          },
          "metadata": {},
          "execution_count": 23
        }
      ],
      "source": [
        "dataset = dataset.dropna(axis=1)\n",
        "dataset.isnull().sum()"
      ]
    },
    {
      "cell_type": "markdown",
      "source": [
        "drop datetime column since we don't need it, we will use it in the next lecure for forecasting time series data"
      ],
      "metadata": {
        "id": "hqbUmlrTqsed"
      }
    },
    {
      "cell_type": "markdown",
      "source": [
        "## 3. Data Visualization"
      ],
      "metadata": {
        "id": "ENPm1cm20MRH"
      }
    },
    {
      "cell_type": "markdown",
      "source": [
        "**Eploratory Data Analysis (EDA)**"
      ],
      "metadata": {
        "id": "Kmt5tnjKb_Th"
      }
    },
    {
      "cell_type": "markdown",
      "source": [
        "we will not use exploratory data analysis like in the previous class, we'll take another apporach to visualize data"
      ],
      "metadata": {
        "id": "_sXK6PePvNOv"
      }
    },
    {
      "cell_type": "markdown",
      "source": [
        "**3.1 Check Outliers**\n",
        "\n",
        "Outliers are values at the extreme ends of a dataset.\n",
        "\n",
        "Some outliers represent true values from natural variation in the population. Other outliers may result from incorrect data entry, equipment malfunctions, or other measurement errors.\n",
        "\n",
        "An outlier isn’t always a form of dirty or incorrect data, so you have to be careful with them in data cleansing. What you should do with an outlier depends on its most likely cause.\n",
        "\n",
        "for more info: https://www.scribbr.com/statistics/outliers/"
      ],
      "metadata": {
        "id": "FZB03O6btxDd"
      }
    },
    {
      "cell_type": "code",
      "execution_count": 24,
      "metadata": {
        "colab": {
          "base_uri": "https://localhost:8080/",
          "height": 300
        },
        "id": "0V45x0tn28_2",
        "outputId": "f69d70f4-bf8e-4b55-9620-2d0a5e764acd"
      },
      "outputs": [
        {
          "output_type": "execute_result",
          "data": {
            "text/plain": [
              "           rating   draft_year\n",
              "count  464.000000   464.000000\n",
              "mean    77.568966  2013.892241\n",
              "std      6.933780     3.997465\n",
              "min     67.000000  2001.000000\n",
              "25%     73.000000  2011.000000\n",
              "50%     76.000000  2015.000000\n",
              "75%     80.000000  2017.000000\n",
              "max     97.000000  2019.000000"
            ],
            "text/html": [
              "\n",
              "  <div id=\"df-8f9c5189-aede-4955-b7fb-b968b2034e62\">\n",
              "    <div class=\"colab-df-container\">\n",
              "      <div>\n",
              "<style scoped>\n",
              "    .dataframe tbody tr th:only-of-type {\n",
              "        vertical-align: middle;\n",
              "    }\n",
              "\n",
              "    .dataframe tbody tr th {\n",
              "        vertical-align: top;\n",
              "    }\n",
              "\n",
              "    .dataframe thead th {\n",
              "        text-align: right;\n",
              "    }\n",
              "</style>\n",
              "<table border=\"1\" class=\"dataframe\">\n",
              "  <thead>\n",
              "    <tr style=\"text-align: right;\">\n",
              "      <th></th>\n",
              "      <th>rating</th>\n",
              "      <th>draft_year</th>\n",
              "    </tr>\n",
              "  </thead>\n",
              "  <tbody>\n",
              "    <tr>\n",
              "      <th>count</th>\n",
              "      <td>464.000000</td>\n",
              "      <td>464.000000</td>\n",
              "    </tr>\n",
              "    <tr>\n",
              "      <th>mean</th>\n",
              "      <td>77.568966</td>\n",
              "      <td>2013.892241</td>\n",
              "    </tr>\n",
              "    <tr>\n",
              "      <th>std</th>\n",
              "      <td>6.933780</td>\n",
              "      <td>3.997465</td>\n",
              "    </tr>\n",
              "    <tr>\n",
              "      <th>min</th>\n",
              "      <td>67.000000</td>\n",
              "      <td>2001.000000</td>\n",
              "    </tr>\n",
              "    <tr>\n",
              "      <th>25%</th>\n",
              "      <td>73.000000</td>\n",
              "      <td>2011.000000</td>\n",
              "    </tr>\n",
              "    <tr>\n",
              "      <th>50%</th>\n",
              "      <td>76.000000</td>\n",
              "      <td>2015.000000</td>\n",
              "    </tr>\n",
              "    <tr>\n",
              "      <th>75%</th>\n",
              "      <td>80.000000</td>\n",
              "      <td>2017.000000</td>\n",
              "    </tr>\n",
              "    <tr>\n",
              "      <th>max</th>\n",
              "      <td>97.000000</td>\n",
              "      <td>2019.000000</td>\n",
              "    </tr>\n",
              "  </tbody>\n",
              "</table>\n",
              "</div>\n",
              "      <button class=\"colab-df-convert\" onclick=\"convertToInteractive('df-8f9c5189-aede-4955-b7fb-b968b2034e62')\"\n",
              "              title=\"Convert this dataframe to an interactive table.\"\n",
              "              style=\"display:none;\">\n",
              "        \n",
              "  <svg xmlns=\"http://www.w3.org/2000/svg\" height=\"24px\"viewBox=\"0 0 24 24\"\n",
              "       width=\"24px\">\n",
              "    <path d=\"M0 0h24v24H0V0z\" fill=\"none\"/>\n",
              "    <path d=\"M18.56 5.44l.94 2.06.94-2.06 2.06-.94-2.06-.94-.94-2.06-.94 2.06-2.06.94zm-11 1L8.5 8.5l.94-2.06 2.06-.94-2.06-.94L8.5 2.5l-.94 2.06-2.06.94zm10 10l.94 2.06.94-2.06 2.06-.94-2.06-.94-.94-2.06-.94 2.06-2.06.94z\"/><path d=\"M17.41 7.96l-1.37-1.37c-.4-.4-.92-.59-1.43-.59-.52 0-1.04.2-1.43.59L10.3 9.45l-7.72 7.72c-.78.78-.78 2.05 0 2.83L4 21.41c.39.39.9.59 1.41.59.51 0 1.02-.2 1.41-.59l7.78-7.78 2.81-2.81c.8-.78.8-2.07 0-2.86zM5.41 20L4 18.59l7.72-7.72 1.47 1.35L5.41 20z\"/>\n",
              "  </svg>\n",
              "      </button>\n",
              "      \n",
              "  <style>\n",
              "    .colab-df-container {\n",
              "      display:flex;\n",
              "      flex-wrap:wrap;\n",
              "      gap: 12px;\n",
              "    }\n",
              "\n",
              "    .colab-df-convert {\n",
              "      background-color: #E8F0FE;\n",
              "      border: none;\n",
              "      border-radius: 50%;\n",
              "      cursor: pointer;\n",
              "      display: none;\n",
              "      fill: #1967D2;\n",
              "      height: 32px;\n",
              "      padding: 0 0 0 0;\n",
              "      width: 32px;\n",
              "    }\n",
              "\n",
              "    .colab-df-convert:hover {\n",
              "      background-color: #E2EBFA;\n",
              "      box-shadow: 0px 1px 2px rgba(60, 64, 67, 0.3), 0px 1px 3px 1px rgba(60, 64, 67, 0.15);\n",
              "      fill: #174EA6;\n",
              "    }\n",
              "\n",
              "    [theme=dark] .colab-df-convert {\n",
              "      background-color: #3B4455;\n",
              "      fill: #D2E3FC;\n",
              "    }\n",
              "\n",
              "    [theme=dark] .colab-df-convert:hover {\n",
              "      background-color: #434B5C;\n",
              "      box-shadow: 0px 1px 3px 1px rgba(0, 0, 0, 0.15);\n",
              "      filter: drop-shadow(0px 1px 2px rgba(0, 0, 0, 0.3));\n",
              "      fill: #FFFFFF;\n",
              "    }\n",
              "  </style>\n",
              "\n",
              "      <script>\n",
              "        const buttonEl =\n",
              "          document.querySelector('#df-8f9c5189-aede-4955-b7fb-b968b2034e62 button.colab-df-convert');\n",
              "        buttonEl.style.display =\n",
              "          google.colab.kernel.accessAllowed ? 'block' : 'none';\n",
              "\n",
              "        async function convertToInteractive(key) {\n",
              "          const element = document.querySelector('#df-8f9c5189-aede-4955-b7fb-b968b2034e62');\n",
              "          const dataTable =\n",
              "            await google.colab.kernel.invokeFunction('convertToInteractive',\n",
              "                                                     [key], {});\n",
              "          if (!dataTable) return;\n",
              "\n",
              "          const docLinkHtml = 'Like what you see? Visit the ' +\n",
              "            '<a target=\"_blank\" href=https://colab.research.google.com/notebooks/data_table.ipynb>data table notebook</a>'\n",
              "            + ' to learn more about interactive tables.';\n",
              "          element.innerHTML = '';\n",
              "          dataTable['output_type'] = 'display_data';\n",
              "          await google.colab.output.renderOutput(dataTable, element);\n",
              "          const docLink = document.createElement('div');\n",
              "          docLink.innerHTML = docLinkHtml;\n",
              "          element.appendChild(docLink);\n",
              "        }\n",
              "      </script>\n",
              "    </div>\n",
              "  </div>\n",
              "  "
            ]
          },
          "metadata": {},
          "execution_count": 24
        }
      ],
      "source": [
        "dataset.describe()"
      ]
    },
    {
      "cell_type": "code",
      "source": [
        "import matplotlib.pyplot as plt\n",
        "%matplotlib inline\n",
        "dataset.plot()"
      ],
      "metadata": {
        "colab": {
          "base_uri": "https://localhost:8080/",
          "height": 447
        },
        "id": "hVyPVG8wv4Rd",
        "outputId": "b2682193-18fd-4215-acb6-8d1233c63802"
      },
      "execution_count": 25,
      "outputs": [
        {
          "output_type": "execute_result",
          "data": {
            "text/plain": [
              "<Axes: >"
            ]
          },
          "metadata": {},
          "execution_count": 25
        },
        {
          "output_type": "display_data",
          "data": {
            "text/plain": [
              "<Figure size 640x480 with 1 Axes>"
            ],
            "image/png": "[encoded data removed]"
          },
          "metadata": {}
        }
      ]
    },
    {
      "cell_type": "code",
      "source": [
        "import seaborn as sns\n",
        "%matplotlib inline\n",
        "\n",
        "sns.set(rc={'figure.figsize':(11,8)}, font_scale=1.5, style='whitegrid')\n",
        "\n",
        "# tips = sns.load_dataset(dataset)\n",
        "sns.boxplot(data=dataset, orient=\"h\");"
      ],
      "metadata": {
        "colab": {
          "base_uri": "https://localhost:8080/",
          "height": 689
        },
        "id": "Sg0KQswrw-aG",
        "outputId": "c19f0ce0-ceae-4612-cf69-f8d8f1f49a4a"
      },
      "execution_count": 26,
      "outputs": [
        {
          "output_type": "display_data",
          "data": {
            "text/plain": [
              "<Figure size 1100x800 with 1 Axes>"
            ],
            "image/png": "[encoded data removed]"
          },
          "metadata": {}
        }
      ]
    },
    {
      "cell_type": "code",
      "source": [
        "# Scatter plot\n",
        "fig, ax = plt.subplots(figsize = (15,7))\n",
        "ax.scatter(dataset['rating'], dataset['draft_year'])\n",
        " \n",
        "# x-axis label\n",
        "ax.set_xlabel('draft_year')\n",
        " \n",
        "# y-axis label\n",
        "ax.set_ylabel('rating')\n",
        "plt.show()"
      ],
      "metadata": {
        "colab": {
          "base_uri": "https://localhost:8080/",
          "height": 524
        },
        "id": "QF-Yo7Mc1BJH",
        "outputId": "3be8a735-854f-478e-f814-208a99f68a30"
      },
      "execution_count": 27,
      "outputs": [
        {
          "output_type": "display_data",
          "data": {
            "text/plain": [
              "<Figure size 1500x700 with 1 Axes>"
            ],
            "image/png": "[encoded data removed]"
          },
          "metadata": {}
        }
      ]
    },
    {
      "cell_type": "markdown",
      "source": [
        "**Removing the outliers using IQR**\n",
        "\n",
        "**IQR (Inter Quartile Range)**\n",
        "\n",
        "IQR = Quartile3 – Quartile1\n",
        "\n",
        "Quartile description: https://rumusbilangan.com/rumus-kuartil/\n"
      ],
      "metadata": {
        "id": "QNqE47dr2hr4"
      }
    },
    {
      "cell_type": "markdown",
      "source": [
        "IQR is interpolation method to remove outliers\n",
        "\n",
        "To define the outlier base value is defined above and below datasets normal range namely Upper and Lower bounds, define the upper and the lower bound (1.5*IQR value is considered) :\n",
        "\n",
        "upper = Q3 +1.5*IQR\n",
        "\n",
        "lower = Q1 – 1.5*IQR\n",
        "\n",
        "how to calculate IQR:\n",
        "\n",
        "https://www.timesmojo.com/what-is-the-15-iqr-rule/\n",
        "\n",
        "https://www.geeksforgeeks.org/detect-and-remove-the-outliers-using-python/\n",
        "\n",
        "In the above formula as according to statistics, the 0.5 scale-up of IQR (new_IQR = IQR + 0.5*IQR) is taken, to consider all the data between 2.7 standard deviations in the Gaussian Distribution."
      ],
      "metadata": {
        "id": "5m0lhYyq3Xn7"
      }
    },
    {
      "cell_type": "code",
      "source": [
        "import sklearn\n",
        "\n",
        "# IQR Price\n",
        "Q1 = np.percentile(dataset['rating'], 25,\n",
        "                   method = 'midpoint')\n",
        " \n",
        "Q3 = np.percentile(dataset['rating'], 75,\n",
        "                   method = 'midpoint')\n",
        "IQR = Q3 - Q1\n",
        " \n",
        "print(\"Old Shape: \", dataset.shape)"
      ],
      "metadata": {
        "colab": {
          "base_uri": "https://localhost:8080/"
        },
        "id": "jL9XfyUY6L58",
        "outputId": "a3560980-8f29-43c6-d040-ef70ded1c056"
      },
      "execution_count": 28,
      "outputs": [
        {
          "output_type": "stream",
          "name": "stdout",
          "text": [
            "Old Shape:  (464, 13)\n"
          ]
        }
      ]
    },
    {
      "cell_type": "code",
      "source": [
        "# Upper bound\n",
        "upper = Q3 + 1.5 * IQR\n",
        "\n",
        "# Lower bound\n",
        "lower = Q1 - 1.5 * IQR\n",
        "\n",
        "# Finding the indices of the outliers\n",
        "outliers_upper = dataset[dataset['rating'] > upper].index\n",
        "outliers_lower = dataset[dataset['rating'] < lower].index\n",
        "\n",
        "# Concatenate the indices of the outliers\n",
        "outliers = outliers_upper.append(outliers_lower)\n",
        "\n",
        "# Removing the outliers\n",
        "dataset.drop(outliers, inplace=True)\n",
        "\n",
        "print(\"New Shape: \", dataset.shape)\n"
      ],
      "metadata": {
        "colab": {
          "base_uri": "https://localhost:8080/"
        },
        "id": "WIZyhdHL6orp",
        "outputId": "e547f1b5-a9ac-473f-d006-c29756c68376"
      },
      "execution_count": 29,
      "outputs": [
        {
          "output_type": "stream",
          "name": "stdout",
          "text": [
            "New Shape:  (433, 13)\n"
          ]
        },
        {
          "output_type": "stream",
          "name": "stderr",
          "text": [
            "<ipython-input-29-9bec8d6c49e5>:15: SettingWithCopyWarning: \n",
            "A value is trying to be set on a copy of a slice from a DataFrame\n",
            "\n",
            "See the caveats in the documentation: https://pandas.pydata.org/pandas-docs/stable/user_guide/indexing.html#returning-a-view-versus-a-copy\n",
            "  dataset.drop(outliers, inplace=True)\n"
          ]
        }
      ]
    },
    {
      "cell_type": "code",
      "source": [
        "import sklearn\n",
        "\n",
        "# IQR Landsize\n",
        "Q1 = np.percentile(dataset['draft_year'], 25,\n",
        "                   method = 'midpoint')\n",
        " \n",
        "Q3 = np.percentile(dataset['draft_year'], 75,\n",
        "                   method = 'midpoint')\n",
        "IQR = Q3 - Q1\n",
        " \n",
        "print(\"Old Shape: \", dataset.shape)"
      ],
      "metadata": {
        "colab": {
          "base_uri": "https://localhost:8080/"
        },
        "id": "NV-D28kj63xj",
        "outputId": "7f1b4dda-a395-471c-edd5-53251b684e6b"
      },
      "execution_count": 30,
      "outputs": [
        {
          "output_type": "stream",
          "name": "stdout",
          "text": [
            "Old Shape:  (433, 13)\n"
          ]
        }
      ]
    },
    {
      "cell_type": "code",
      "source": [
        "# Upper bound\n",
        "upper = Q3 + 1.5 * IQR\n",
        "\n",
        "# Lower bound\n",
        "lower = Q1 - 1.5 * IQR\n",
        "\n",
        "# Finding the indices of the outliers\n",
        "outliers_upper = dataset[dataset['draft_year'] > upper].index\n",
        "outliers_lower = dataset[dataset['draft_year'] < lower].index\n",
        "\n",
        "# Concatenate the indices of the outliers\n",
        "outliers = outliers_upper.append(outliers_lower)\n",
        "\n",
        "# Removing the outliers\n",
        "dataset.drop(outliers, inplace=True)\n",
        "\n",
        "print(\"New Shape: \", dataset.shape)\n"
      ],
      "metadata": {
        "colab": {
          "base_uri": "https://localhost:8080/"
        },
        "id": "raHbRnEQ66Ai",
        "outputId": "249d2466-a3fb-442b-a889-52a456c2a972"
      },
      "execution_count": 34,
      "outputs": [
        {
          "output_type": "stream",
          "name": "stdout",
          "text": [
            "New Shape:  (428, 13)\n"
          ]
        },
        {
          "output_type": "stream",
          "name": "stderr",
          "text": [
            "<ipython-input-34-27470d178533>:15: SettingWithCopyWarning: \n",
            "A value is trying to be set on a copy of a slice from a DataFrame\n",
            "\n",
            "See the caveats in the documentation: https://pandas.pydata.org/pandas-docs/stable/user_guide/indexing.html#returning-a-view-versus-a-copy\n",
            "  dataset.drop(outliers, inplace=True)\n"
          ]
        }
      ]
    },
    {
      "cell_type": "code",
      "execution_count": 35,
      "metadata": {
        "colab": {
          "base_uri": "https://localhost:8080/",
          "height": 689
        },
        "id": "vR-0FpAR4wNE",
        "outputId": "13f9e55c-4be8-406c-f75f-346a252599f7"
      },
      "outputs": [
        {
          "output_type": "display_data",
          "data": {
            "text/plain": [
              "<Figure size 1100x800 with 1 Axes>"
            ],
            "image/png": "[encoded data removed]"
          },
          "metadata": {}
        }
      ],
      "source": [
        "import seaborn as sns\n",
        "%matplotlib inline\n",
        "\n",
        "sns.set(rc={'figure.figsize':(11,8)}, font_scale=1.5, style='whitegrid')\n",
        "\n",
        "# tips = sns.load_dataset(dataset)\n",
        "sns.boxplot(data=dataset, orient=\"h\");"
      ]
    },
    {
      "cell_type": "code",
      "source": [
        "# Scatter plot\n",
        "fig, ax = plt.subplots(figsize = (15,7))\n",
        "ax.scatter(dataset['rating'], dataset['draft_year'])\n",
        " \n",
        "# x-axis label\n",
        "ax.set_xlabel('draft_year')\n",
        " \n",
        "# y-axis label\n",
        "ax.set_ylabel('rating')\n",
        "plt.show()"
      ],
      "metadata": {
        "colab": {
          "base_uri": "https://localhost:8080/",
          "height": 533
        },
        "id": "kp3nBBsZ8qQm",
        "outputId": "b01ae707-82b6-479c-b19e-919568d071a3"
      },
      "execution_count": 36,
      "outputs": [
        {
          "output_type": "display_data",
          "data": {
            "text/plain": [
              "<Figure size 1500x700 with 1 Axes>"
            ],
            "image/png": "[encoded data removed]"
          },
          "metadata": {}
        }
      ]
    },
    {
      "cell_type": "markdown",
      "source": [
        "Show data distribution based on density (kde - kernel density estimation)"
      ],
      "metadata": {
        "id": "LsjkfEScBUoN"
      }
    },
    {
      "cell_type": "code",
      "execution_count": 37,
      "metadata": {
        "colab": {
          "base_uri": "https://localhost:8080/",
          "height": 128
        },
        "id": "aiF0oNG7_bPz",
        "outputId": "00dc64eb-a186-4b9a-8d2e-02870ac55459"
      },
      "outputs": [
        {
          "output_type": "display_data",
          "data": {
            "text/plain": [
              "<Figure size 1500x1200 with 20 Axes>"
            ],
            "image/png": "[encoded data removed]"
          },
          "metadata": {}
        }
      ],
      "source": [
        "dataset.plot(kind='kde',subplots=True,layout=(10,2),figsize=(15,12), sharex=False)\n",
        "plt.show()"
      ]
    },
    {
      "cell_type": "markdown",
      "source": [
        "Show data distribution based on histogram"
      ],
      "metadata": {
        "id": "wLLPYJxoBkJj"
      }
    },
    {
      "cell_type": "code",
      "source": [
        "dataset.plot(kind='hist',subplots=True,layout=(10,2),figsize=(15,12), sharex=False)\n",
        "plt.show()"
      ],
      "metadata": {
        "colab": {
          "base_uri": "https://localhost:8080/",
          "height": 129
        },
        "id": "oGUJFv6oj_Ub",
        "outputId": "3eda08da-2671-44f8-d6a0-f1c2ec980031"
      },
      "execution_count": 39,
      "outputs": [
        {
          "output_type": "display_data",
          "data": {
            "text/plain": [
              "<Figure size 1500x1200 with 20 Axes>"
            ],
            "image/png": "[encoded data removed]"
          },
          "metadata": {}
        }
      ]
    },
    {
      "cell_type": "code",
      "source": [
        "dataset.plot(kind='line',subplots=True,layout=(10,2),figsize=(15,12), sharex=False)\n",
        "plt.show()"
      ],
      "metadata": {
        "colab": {
          "base_uri": "https://localhost:8080/",
          "height": 137
        },
        "id": "MGk91iI0kZ_3",
        "outputId": "6116a367-11a8-47a1-a6e4-cbe197dfe94d"
      },
      "execution_count": 38,
      "outputs": [
        {
          "output_type": "display_data",
          "data": {
            "text/plain": [
              "<Figure size 1500x1200 with 20 Axes>"
            ],
            "image/png": "[encoded data removed]"
          },
          "metadata": {}
        }
      ]
    },
    {
      "cell_type": "markdown",
      "source": [
        "**3.2 CORRELATION MATRIX**"
      ],
      "metadata": {
        "id": "Rdb2Vu6ER6bG"
      }
    },
    {
      "cell_type": "code",
      "execution_count": 40,
      "metadata": {
        "colab": {
          "base_uri": "https://localhost:8080/",
          "height": 1000
        },
        "id": "JJfeTBE8AoEU",
        "outputId": "c95078ca-870e-4d7d-8b72-fa0461846dc6"
      },
      "outputs": [
        {
          "output_type": "display_data",
          "data": {
            "text/plain": [
              "<Figure size 1200x1200 with 4 Axes>"
            ],
            "image/png": "[encoded data removed]"
          },
          "metadata": {}
        }
      ],
      "source": [
        "pd.plotting.scatter_matrix(dataset,figsize=(12,12))\n",
        "plt.show()"
      ]
    },
    {
      "cell_type": "markdown",
      "source": [
        "correlation matrix with heatmap"
      ],
      "metadata": {
        "id": "3GkOv0zVElyF"
      }
    },
    {
      "cell_type": "code",
      "execution_count": 41,
      "metadata": {
        "colab": {
          "base_uri": "https://localhost:8080/",
          "height": 678
        },
        "id": "QOpTY-zcm2al",
        "outputId": "8d559717-c384-401e-908b-25fd19e7bd07"
      },
      "outputs": [
        {
          "output_type": "stream",
          "name": "stderr",
          "text": [
            "<ipython-input-41-4b443a21f68f>:2: FutureWarning: The default value of numeric_only in DataFrame.corr is deprecated. In a future version, it will default to False. Select only valid columns or specify the value of numeric_only to silence this warning.\n",
            "  corr = corr_data.corr()\n"
          ]
        },
        {
          "output_type": "display_data",
          "data": {
            "text/plain": [
              "<Figure size 1500x700 with 2 Axes>"
            ],
            "image/png": "[encoded data removed]"
          },
          "metadata": {}
        }
      ],
      "source": [
        "corr_data = dataset\n",
        "corr = corr_data.corr()\n",
        "\n",
        "cor_plot = sns.heatmap(corr,annot=True,cmap='RdYlGn',linewidths=0.2,annot_kws={'size':10})\n",
        "fig=plt.gcf()\n",
        "fig.set_size_inches(15,7)\n",
        "plt.xticks(fontsize=10,rotation=-30)\n",
        "plt.yticks(fontsize=10)\n",
        "plt.title('Correlation Matrix')\n",
        "plt.show()"
      ]
    },
    {
      "cell_type": "markdown",
      "source": [
        "**4. Splitting Dataset**"
      ],
      "metadata": {
        "id": "Ue-S5QvcEZP3"
      }
    },
    {
      "cell_type": "markdown",
      "source": [
        "**4.1 Slicing**"
      ],
      "metadata": {
        "id": "y6eAqlWSHSCa"
      }
    },
    {
      "cell_type": "markdown",
      "source": [
        "We define x and y as x for data and y for label"
      ],
      "metadata": {
        "id": "bPWKEA19HYEQ"
      }
    },
    {
      "cell_type": "code",
      "source": [
        "x = dataset.drop('draft_round', axis=1)\n",
        "x"
      ],
      "metadata": {
        "colab": {
          "base_uri": "https://localhost:8080/",
          "height": 467
        },
        "id": "hCep1ou2LfU1",
        "outputId": "8ec1c689-8bcb-49b1-ce86-4473278f8fc9"
      },
      "execution_count": 45,
      "outputs": [
        {
          "output_type": "execute_result",
          "data": {
            "text/plain": [
              "              full_name  rating jersey position     b_day       height  \\\n",
              "11         Nikola Jokic      90    #15        C  02/19/95   7-0 / 2.13   \n",
              "12    Russell Westbrook      90     #0        G  11/12/88   6-3 / 1.91   \n",
              "13        Klay Thompson      89    #11        G  02/08/90   6-6 / 1.98   \n",
              "14   Karl-Anthony Towns      89    #32      F-C  11/15/95  6-11 / 2.11   \n",
              "15         Jimmy Butler      88    #22        G  09/14/89   6-7 / 2.01   \n",
              "..                  ...     ...    ...      ...       ...          ...   \n",
              "459          Chris Paul      88     #3        G  05/06/85   6-1 / 1.85   \n",
              "460        Bradley Beal      88     #3        G  06/28/93   6-3 / 1.91   \n",
              "461         Rudy Gobert      87    #27        C  06/26/92   7-1 / 2.16   \n",
              "462          Kyle Lowry      87     #7        G  03/25/86   6-0 / 1.83   \n",
              "463  Kristaps Porzingis      87     #6      F-C  08/02/95   7-3 / 2.21   \n",
              "\n",
              "                   weight     salary country  draft_year draft_peak  version  \n",
              "11   253 lbs. / 114.8 kg.  $27504630  Serbia        2014         41  NBA2k20  \n",
              "12    190 lbs. / 86.2 kg.  $38506482     USA        2008          4  NBA2k20  \n",
              "13      205 lbs. / 93 kg.  $32742000     USA        2011         11  NBA2k20  \n",
              "14   248 lbs. / 112.5 kg.  $27285000     USA        2015          1  NBA2k20  \n",
              "15    220 lbs. / 99.8 kg.  $32742000     USA        2011         30  NBA2k20  \n",
              "..                    ...        ...     ...         ...        ...      ...  \n",
              "459   175 lbs. / 79.4 kg.  $41358814     USA        2005          4  NBA2k21  \n",
              "460   207 lbs. / 93.9 kg.  $28751774     USA        2012          3  NBA2k21  \n",
              "461    238 lbs. / 108 kg.  $27525281  France        2013         27  NBA2k21  \n",
              "462     205 lbs. / 93 kg.  $30500000     USA        2006         24  NBA2k21  \n",
              "463   220 lbs. / 99.8 kg.  $29467800  Latvia        2015          4  NBA2k21  \n",
              "\n",
              "[428 rows x 12 columns]"
            ],
            "text/html": [
              "\n",
              "  <div id=\"df-e705b1bc-1bf1-400d-bfdb-56737f46dd7c\">\n",
              "    <div class=\"colab-df-container\">\n",
              "      <div>\n",
              "<style scoped>\n",
              "    .dataframe tbody tr th:only-of-type {\n",
              "        vertical-align: middle;\n",
              "    }\n",
              "\n",
              "    .dataframe tbody tr th {\n",
              "        vertical-align: top;\n",
              "    }\n",
              "\n",
              "    .dataframe thead th {\n",
              "        text-align: right;\n",
              "    }\n",
              "</style>\n",
              "<table border=\"1\" class=\"dataframe\">\n",
              "  <thead>\n",
              "    <tr style=\"text-align: right;\">\n",
              "      <th></th>\n",
              "      <th>full_name</th>\n",
              "      <th>rating</th>\n",
              "      <th>jersey</th>\n",
              "      <th>position</th>\n",
              "      <th>b_day</th>\n",
              "      <th>height</th>\n",
              "      <th>weight</th>\n",
              "      <th>salary</th>\n",
              "      <th>country</th>\n",
              "      <th>draft_year</th>\n",
              "      <th>draft_peak</th>\n",
              "      <th>version</th>\n",
              "    </tr>\n",
              "  </thead>\n",
              "  <tbody>\n",
              "    <tr>\n",
              "      <th>11</th>\n",
              "      <td>Nikola Jokic</td>\n",
              "      <td>90</td>\n",
              "      <td>#15</td>\n",
              "      <td>C</td>\n",
              "      <td>02/19/95</td>\n",
              "      <td>7-0 / 2.13</td>\n",
              "      <td>253 lbs. / 114.8 kg.</td>\n",
              "      <td>$27504630</td>\n",
              "      <td>Serbia</td>\n",
              "      <td>2014</td>\n",
              "      <td>41</td>\n",
              "      <td>NBA2k20</td>\n",
              "    </tr>\n",
              "    <tr>\n",
              "      <th>12</th>\n",
              "      <td>Russell Westbrook</td>\n",
              "      <td>90</td>\n",
              "      <td>#0</td>\n",
              "      <td>G</td>\n",
              "      <td>11/12/88</td>\n",
              "      <td>6-3 / 1.91</td>\n",
              "      <td>190 lbs. / 86.2 kg.</td>\n",
              "      <td>$38506482</td>\n",
              "      <td>USA</td>\n",
              "      <td>2008</td>\n",
              "      <td>4</td>\n",
              "      <td>NBA2k20</td>\n",
              "    </tr>\n",
              "    <tr>\n",
              "      <th>13</th>\n",
              "      <td>Klay Thompson</td>\n",
              "      <td>89</td>\n",
              "      <td>#11</td>\n",
              "      <td>G</td>\n",
              "      <td>02/08/90</td>\n",
              "      <td>6-6 / 1.98</td>\n",
              "      <td>205 lbs. / 93 kg.</td>\n",
              "      <td>$32742000</td>\n",
              "      <td>USA</td>\n",
              "      <td>2011</td>\n",
              "      <td>11</td>\n",
              "      <td>NBA2k20</td>\n",
              "    </tr>\n",
              "    <tr>\n",
              "      <th>14</th>\n",
              "      <td>Karl-Anthony Towns</td>\n",
              "      <td>89</td>\n",
              "      <td>#32</td>\n",
              "      <td>F-C</td>\n",
              "      <td>11/15/95</td>\n",
              "      <td>6-11 / 2.11</td>\n",
              "      <td>248 lbs. / 112.5 kg.</td>\n",
              "      <td>$27285000</td>\n",
              "      <td>USA</td>\n",
              "      <td>2015</td>\n",
              "      <td>1</td>\n",
              "      <td>NBA2k20</td>\n",
              "    </tr>\n",
              "    <tr>\n",
              "      <th>15</th>\n",
              "      <td>Jimmy Butler</td>\n",
              "      <td>88</td>\n",
              "      <td>#22</td>\n",
              "      <td>G</td>\n",
              "      <td>09/14/89</td>\n",
              "      <td>6-7 / 2.01</td>\n",
              "      <td>220 lbs. / 99.8 kg.</td>\n",
              "      <td>$32742000</td>\n",
              "      <td>USA</td>\n",
              "      <td>2011</td>\n",
              "      <td>30</td>\n",
              "      <td>NBA2k20</td>\n",
              "    </tr>\n",
              "    <tr>\n",
              "      <th>...</th>\n",
              "      <td>...</td>\n",
              "      <td>...</td>\n",
              "      <td>...</td>\n",
              "      <td>...</td>\n",
              "      <td>...</td>\n",
              "      <td>...</td>\n",
              "      <td>...</td>\n",
              "      <td>...</td>\n",
              "      <td>...</td>\n",
              "      <td>...</td>\n",
              "      <td>...</td>\n",
              "      <td>...</td>\n",
              "    </tr>\n",
              "    <tr>\n",
              "      <th>459</th>\n",
              "      <td>Chris Paul</td>\n",
              "      <td>88</td>\n",
              "      <td>#3</td>\n",
              "      <td>G</td>\n",
              "      <td>05/06/85</td>\n",
              "      <td>6-1 / 1.85</td>\n",
              "      <td>175 lbs. / 79.4 kg.</td>\n",
              "      <td>$41358814</td>\n",
              "      <td>USA</td>\n",
              "      <td>2005</td>\n",
              "      <td>4</td>\n",
              "      <td>NBA2k21</td>\n",
              "    </tr>\n",
              "    <tr>\n",
              "      <th>460</th>\n",
              "      <td>Bradley Beal</td>\n",
              "      <td>88</td>\n",
              "      <td>#3</td>\n",
              "      <td>G</td>\n",
              "      <td>06/28/93</td>\n",
              "      <td>6-3 / 1.91</td>\n",
              "      <td>207 lbs. / 93.9 kg.</td>\n",
              "      <td>$28751774</td>\n",
              "      <td>USA</td>\n",
              "      <td>2012</td>\n",
              "      <td>3</td>\n",
              "      <td>NBA2k21</td>\n",
              "    </tr>\n",
              "    <tr>\n",
              "      <th>461</th>\n",
              "      <td>Rudy Gobert</td>\n",
              "      <td>87</td>\n",
              "      <td>#27</td>\n",
              "      <td>C</td>\n",
              "      <td>06/26/92</td>\n",
              "      <td>7-1 / 2.16</td>\n",
              "      <td>238 lbs. / 108 kg.</td>\n",
              "      <td>$27525281</td>\n",
              "      <td>France</td>\n",
              "      <td>2013</td>\n",
              "      <td>27</td>\n",
              "      <td>NBA2k21</td>\n",
              "    </tr>\n",
              "    <tr>\n",
              "      <th>462</th>\n",
              "      <td>Kyle Lowry</td>\n",
              "      <td>87</td>\n",
              "      <td>#7</td>\n",
              "      <td>G</td>\n",
              "      <td>03/25/86</td>\n",
              "      <td>6-0 / 1.83</td>\n",
              "      <td>205 lbs. / 93 kg.</td>\n",
              "      <td>$30500000</td>\n",
              "      <td>USA</td>\n",
              "      <td>2006</td>\n",
              "      <td>24</td>\n",
              "      <td>NBA2k21</td>\n",
              "    </tr>\n",
              "    <tr>\n",
              "      <th>463</th>\n",
              "      <td>Kristaps Porzingis</td>\n",
              "      <td>87</td>\n",
              "      <td>#6</td>\n",
              "      <td>F-C</td>\n",
              "      <td>08/02/95</td>\n",
              "      <td>7-3 / 2.21</td>\n",
              "      <td>220 lbs. / 99.8 kg.</td>\n",
              "      <td>$29467800</td>\n",
              "      <td>Latvia</td>\n",
              "      <td>2015</td>\n",
              "      <td>4</td>\n",
              "      <td>NBA2k21</td>\n",
              "    </tr>\n",
              "  </tbody>\n",
              "</table>\n",
              "<p>428 rows × 12 columns</p>\n",
              "</div>\n",
              "      <button class=\"colab-df-convert\" onclick=\"convertToInteractive('df-e705b1bc-1bf1-400d-bfdb-56737f46dd7c')\"\n",
              "              title=\"Convert this dataframe to an interactive table.\"\n",
              "              style=\"display:none;\">\n",
              "        \n",
              "  <svg xmlns=\"http://www.w3.org/2000/svg\" height=\"24px\"viewBox=\"0 0 24 24\"\n",
              "       width=\"24px\">\n",
              "    <path d=\"M0 0h24v24H0V0z\" fill=\"none\"/>\n",
              "    <path d=\"M18.56 5.44l.94 2.06.94-2.06 2.06-.94-2.06-.94-.94-2.06-.94 2.06-2.06.94zm-11 1L8.5 8.5l.94-2.06 2.06-.94-2.06-.94L8.5 2.5l-.94 2.06-2.06.94zm10 10l.94 2.06.94-2.06 2.06-.94-2.06-.94-.94-2.06-.94 2.06-2.06.94z\"/><path d=\"M17.41 7.96l-1.37-1.37c-.4-.4-.92-.59-1.43-.59-.52 0-1.04.2-1.43.59L10.3 9.45l-7.72 7.72c-.78.78-.78 2.05 0 2.83L4 21.41c.39.39.9.59 1.41.59.51 0 1.02-.2 1.41-.59l7.78-7.78 2.81-2.81c.8-.78.8-2.07 0-2.86zM5.41 20L4 18.59l7.72-7.72 1.47 1.35L5.41 20z\"/>\n",
              "  </svg>\n",
              "      </button>\n",
              "      \n",
              "  <style>\n",
              "    .colab-df-container {\n",
              "      display:flex;\n",
              "      flex-wrap:wrap;\n",
              "      gap: 12px;\n",
              "    }\n",
              "\n",
              "    .colab-df-convert {\n",
              "      background-color: #E8F0FE;\n",
              "      border: none;\n",
              "      border-radius: 50%;\n",
              "      cursor: pointer;\n",
              "      display: none;\n",
              "      fill: #1967D2;\n",
              "      height: 32px;\n",
              "      padding: 0 0 0 0;\n",
              "      width: 32px;\n",
              "    }\n",
              "\n",
              "    .colab-df-convert:hover {\n",
              "      background-color: #E2EBFA;\n",
              "      box-shadow: 0px 1px 2px rgba(60, 64, 67, 0.3), 0px 1px 3px 1px rgba(60, 64, 67, 0.15);\n",
              "      fill: #174EA6;\n",
              "    }\n",
              "\n",
              "    [theme=dark] .colab-df-convert {\n",
              "      background-color: #3B4455;\n",
              "      fill: #D2E3FC;\n",
              "    }\n",
              "\n",
              "    [theme=dark] .colab-df-convert:hover {\n",
              "      background-color: #434B5C;\n",
              "      box-shadow: 0px 1px 3px 1px rgba(0, 0, 0, 0.15);\n",
              "      filter: drop-shadow(0px 1px 2px rgba(0, 0, 0, 0.3));\n",
              "      fill: #FFFFFF;\n",
              "    }\n",
              "  </style>\n",
              "\n",
              "      <script>\n",
              "        const buttonEl =\n",
              "          document.querySelector('#df-e705b1bc-1bf1-400d-bfdb-56737f46dd7c button.colab-df-convert');\n",
              "        buttonEl.style.display =\n",
              "          google.colab.kernel.accessAllowed ? 'block' : 'none';\n",
              "\n",
              "        async function convertToInteractive(key) {\n",
              "          const element = document.querySelector('#df-e705b1bc-1bf1-400d-bfdb-56737f46dd7c');\n",
              "          const dataTable =\n",
              "            await google.colab.kernel.invokeFunction('convertToInteractive',\n",
              "                                                     [key], {});\n",
              "          if (!dataTable) return;\n",
              "\n",
              "          const docLinkHtml = 'Like what you see? Visit the ' +\n",
              "            '<a target=\"_blank\" href=https://colab.research.google.com/notebooks/data_table.ipynb>data table notebook</a>'\n",
              "            + ' to learn more about interactive tables.';\n",
              "          element.innerHTML = '';\n",
              "          dataTable['output_type'] = 'display_data';\n",
              "          await google.colab.output.renderOutput(dataTable, element);\n",
              "          const docLink = document.createElement('div');\n",
              "          docLink.innerHTML = docLinkHtml;\n",
              "          element.appendChild(docLink);\n",
              "        }\n",
              "      </script>\n",
              "    </div>\n",
              "  </div>\n",
              "  "
            ]
          },
          "metadata": {},
          "execution_count": 45
        }
      ]
    },
    {
      "cell_type": "markdown",
      "source": [
        "Choose feature Type as a label"
      ],
      "metadata": {
        "id": "SkZgXnQ-tST1"
      }
    },
    {
      "cell_type": "code",
      "source": [
        "y = dataset[\"draft_round\"]\n",
        "y"
      ],
      "metadata": {
        "colab": {
          "base_uri": "https://localhost:8080/"
        },
        "id": "WOZTLMYeh3hj",
        "outputId": "368dad34-f874-4158-a63b-325952ef7857"
      },
      "execution_count": 46,
      "outputs": [
        {
          "output_type": "execute_result",
          "data": {
            "text/plain": [
              "11     2\n",
              "12     1\n",
              "13     1\n",
              "14     1\n",
              "15     1\n",
              "      ..\n",
              "459    1\n",
              "460    1\n",
              "461    1\n",
              "462    1\n",
              "463    1\n",
              "Name: draft_round, Length: 428, dtype: object"
            ]
          },
          "metadata": {},
          "execution_count": 46
        }
      ]
    },
    {
      "cell_type": "code",
      "source": [
        "y.values.reshape(-1,1)"
      ],
      "metadata": {
        "colab": {
          "base_uri": "https://localhost:8080/"
        },
        "id": "l6idhdXTrLAD",
        "outputId": "3f56dac7-8e2d-4952-c7a6-15bd25f2c612"
      },
      "execution_count": 47,
      "outputs": [
        {
          "output_type": "execute_result",
          "data": {
            "text/plain": [
              "array([['2'],\n",
              "       ['1'],\n",
              "       ['1'],\n",
              "       ['1'],\n",
              "       ['1'],\n",
              "       ['1'],\n",
              "       ['1'],\n",
              "       ['1'],\n",
              "       ['1'],\n",
              "       ['1'],\n",
              "       ['1'],\n",
              "       ['1'],\n",
              "       ['1'],\n",
              "       ['1'],\n",
              "       ['1'],\n",
              "       ['1'],\n",
              "       ['1'],\n",
              "       ['1'],\n",
              "       ['1'],\n",
              "       ['1'],\n",
              "       ['1'],\n",
              "       ['1'],\n",
              "       ['1'],\n",
              "       ['1'],\n",
              "       ['2'],\n",
              "       ['1'],\n",
              "       ['1'],\n",
              "       ['1'],\n",
              "       ['1'],\n",
              "       ['1'],\n",
              "       ['1'],\n",
              "       ['1'],\n",
              "       ['1'],\n",
              "       ['1'],\n",
              "       ['1'],\n",
              "       ['1'],\n",
              "       ['2'],\n",
              "       ['1'],\n",
              "       ['1'],\n",
              "       ['1'],\n",
              "       ['1'],\n",
              "       ['1'],\n",
              "       ['2'],\n",
              "       ['1'],\n",
              "       ['2'],\n",
              "       ['2'],\n",
              "       ['1'],\n",
              "       ['2'],\n",
              "       ['1'],\n",
              "       ['1'],\n",
              "       ['1'],\n",
              "       ['1'],\n",
              "       ['2'],\n",
              "       ['1'],\n",
              "       ['1'],\n",
              "       ['2'],\n",
              "       ['1'],\n",
              "       ['2'],\n",
              "       ['1'],\n",
              "       ['1'],\n",
              "       ['1'],\n",
              "       ['1'],\n",
              "       ['1'],\n",
              "       ['1'],\n",
              "       ['1'],\n",
              "       ['2'],\n",
              "       ['1'],\n",
              "       ['1'],\n",
              "       ['2'],\n",
              "       ['1'],\n",
              "       ['Undrafted'],\n",
              "       ['1'],\n",
              "       ['1'],\n",
              "       ['1'],\n",
              "       ['1'],\n",
              "       ['1'],\n",
              "       ['1'],\n",
              "       ['2'],\n",
              "       ['1'],\n",
              "       ['1'],\n",
              "       ['1'],\n",
              "       ['1'],\n",
              "       ['1'],\n",
              "       ['1'],\n",
              "       ['2'],\n",
              "       ['1'],\n",
              "       ['1'],\n",
              "       ['2'],\n",
              "       ['1'],\n",
              "       ['1'],\n",
              "       ['Undrafted'],\n",
              "       ['1'],\n",
              "       ['1'],\n",
              "       ['1'],\n",
              "       ['2'],\n",
              "       ['1'],\n",
              "       ['1'],\n",
              "       ['2'],\n",
              "       ['Undrafted'],\n",
              "       ['1'],\n",
              "       ['1'],\n",
              "       ['1'],\n",
              "       ['1'],\n",
              "       ['2'],\n",
              "       ['1'],\n",
              "       ['2'],\n",
              "       ['1'],\n",
              "       ['2'],\n",
              "       ['1'],\n",
              "       ['1'],\n",
              "       ['Undrafted'],\n",
              "       ['2'],\n",
              "       ['1'],\n",
              "       ['1'],\n",
              "       ['1'],\n",
              "       ['1'],\n",
              "       ['1'],\n",
              "       ['1'],\n",
              "       ['1'],\n",
              "       ['1'],\n",
              "       ['1'],\n",
              "       ['1'],\n",
              "       ['1'],\n",
              "       ['1'],\n",
              "       ['1'],\n",
              "       ['1'],\n",
              "       ['1'],\n",
              "       ['1'],\n",
              "       ['1'],\n",
              "       ['1'],\n",
              "       ['1'],\n",
              "       ['2'],\n",
              "       ['1'],\n",
              "       ['1'],\n",
              "       ['1'],\n",
              "       ['2'],\n",
              "       ['2'],\n",
              "       ['1'],\n",
              "       ['1'],\n",
              "       ['1'],\n",
              "       ['2'],\n",
              "       ['1'],\n",
              "       ['1'],\n",
              "       ['1'],\n",
              "       ['2'],\n",
              "       ['1'],\n",
              "       ['1'],\n",
              "       ['1'],\n",
              "       ['1'],\n",
              "       ['1'],\n",
              "       ['2'],\n",
              "       ['1'],\n",
              "       ['2'],\n",
              "       ['1'],\n",
              "       ['Undrafted'],\n",
              "       ['1'],\n",
              "       ['2'],\n",
              "       ['1'],\n",
              "       ['1'],\n",
              "       ['2'],\n",
              "       ['1'],\n",
              "       ['2'],\n",
              "       ['Undrafted'],\n",
              "       ['1'],\n",
              "       ['1'],\n",
              "       ['1'],\n",
              "       ['1'],\n",
              "       ['1'],\n",
              "       ['2'],\n",
              "       ['1'],\n",
              "       ['1'],\n",
              "       ['1'],\n",
              "       ['1'],\n",
              "       ['1'],\n",
              "       ['1'],\n",
              "       ['Undrafted'],\n",
              "       ['1'],\n",
              "       ['1'],\n",
              "       ['1'],\n",
              "       ['1'],\n",
              "       ['1'],\n",
              "       ['1'],\n",
              "       ['1'],\n",
              "       ['1'],\n",
              "       ['Undrafted'],\n",
              "       ['2'],\n",
              "       ['1'],\n",
              "       ['1'],\n",
              "       ['1'],\n",
              "       ['1'],\n",
              "       ['Undrafted'],\n",
              "       ['Undrafted'],\n",
              "       ['1'],\n",
              "       ['1'],\n",
              "       ['1'],\n",
              "       ['1'],\n",
              "       ['2'],\n",
              "       ['1'],\n",
              "       ['1'],\n",
              "       ['Undrafted'],\n",
              "       ['1'],\n",
              "       ['1'],\n",
              "       ['1'],\n",
              "       ['1'],\n",
              "       ['1'],\n",
              "       ['2'],\n",
              "       ['1'],\n",
              "       ['1'],\n",
              "       ['2'],\n",
              "       ['2'],\n",
              "       ['1'],\n",
              "       ['1'],\n",
              "       ['Undrafted'],\n",
              "       ['Undrafted'],\n",
              "       ['2'],\n",
              "       ['1'],\n",
              "       ['1'],\n",
              "       ['1'],\n",
              "       ['2'],\n",
              "       ['2'],\n",
              "       ['2'],\n",
              "       ['1'],\n",
              "       ['Undrafted'],\n",
              "       ['1'],\n",
              "       ['1'],\n",
              "       ['2'],\n",
              "       ['Undrafted'],\n",
              "       ['2'],\n",
              "       ['1'],\n",
              "       ['1'],\n",
              "       ['2'],\n",
              "       ['Undrafted'],\n",
              "       ['Undrafted'],\n",
              "       ['Undrafted'],\n",
              "       ['2'],\n",
              "       ['Undrafted'],\n",
              "       ['1'],\n",
              "       ['1'],\n",
              "       ['1'],\n",
              "       ['1'],\n",
              "       ['Undrafted'],\n",
              "       ['Undrafted'],\n",
              "       ['1'],\n",
              "       ['Undrafted'],\n",
              "       ['1'],\n",
              "       ['1'],\n",
              "       ['2'],\n",
              "       ['1'],\n",
              "       ['2'],\n",
              "       ['2'],\n",
              "       ['2'],\n",
              "       ['2'],\n",
              "       ['2'],\n",
              "       ['1'],\n",
              "       ['1'],\n",
              "       ['Undrafted'],\n",
              "       ['1'],\n",
              "       ['1'],\n",
              "       ['1'],\n",
              "       ['2'],\n",
              "       ['1'],\n",
              "       ['2'],\n",
              "       ['2'],\n",
              "       ['2'],\n",
              "       ['1'],\n",
              "       ['1'],\n",
              "       ['Undrafted'],\n",
              "       ['2'],\n",
              "       ['Undrafted'],\n",
              "       ['2'],\n",
              "       ['Undrafted'],\n",
              "       ['Undrafted'],\n",
              "       ['1'],\n",
              "       ['Undrafted'],\n",
              "       ['1'],\n",
              "       ['1'],\n",
              "       ['1'],\n",
              "       ['1'],\n",
              "       ['2'],\n",
              "       ['2'],\n",
              "       ['1'],\n",
              "       ['Undrafted'],\n",
              "       ['Undrafted'],\n",
              "       ['2'],\n",
              "       ['1'],\n",
              "       ['Undrafted'],\n",
              "       ['Undrafted'],\n",
              "       ['1'],\n",
              "       ['1'],\n",
              "       ['Undrafted'],\n",
              "       ['1'],\n",
              "       ['1'],\n",
              "       ['Undrafted'],\n",
              "       ['1'],\n",
              "       ['1'],\n",
              "       ['Undrafted'],\n",
              "       ['1'],\n",
              "       ['1'],\n",
              "       ['Undrafted'],\n",
              "       ['1'],\n",
              "       ['1'],\n",
              "       ['Undrafted'],\n",
              "       ['1'],\n",
              "       ['Undrafted'],\n",
              "       ['1'],\n",
              "       ['1'],\n",
              "       ['Undrafted'],\n",
              "       ['Undrafted'],\n",
              "       ['Undrafted'],\n",
              "       ['Undrafted'],\n",
              "       ['1'],\n",
              "       ['2'],\n",
              "       ['1'],\n",
              "       ['1'],\n",
              "       ['1'],\n",
              "       ['2'],\n",
              "       ['Undrafted'],\n",
              "       ['2'],\n",
              "       ['2'],\n",
              "       ['2'],\n",
              "       ['1'],\n",
              "       ['1'],\n",
              "       ['1'],\n",
              "       ['Undrafted'],\n",
              "       ['1'],\n",
              "       ['Undrafted'],\n",
              "       ['1'],\n",
              "       ['1'],\n",
              "       ['2'],\n",
              "       ['1'],\n",
              "       ['Undrafted'],\n",
              "       ['1'],\n",
              "       ['Undrafted'],\n",
              "       ['1'],\n",
              "       ['2'],\n",
              "       ['Undrafted'],\n",
              "       ['1'],\n",
              "       ['1'],\n",
              "       ['1'],\n",
              "       ['1'],\n",
              "       ['1'],\n",
              "       ['1'],\n",
              "       ['1'],\n",
              "       ['Undrafted'],\n",
              "       ['Undrafted'],\n",
              "       ['2'],\n",
              "       ['2'],\n",
              "       ['1'],\n",
              "       ['1'],\n",
              "       ['2'],\n",
              "       ['Undrafted'],\n",
              "       ['2'],\n",
              "       ['Undrafted'],\n",
              "       ['2'],\n",
              "       ['1'],\n",
              "       ['1'],\n",
              "       ['2'],\n",
              "       ['1'],\n",
              "       ['Undrafted'],\n",
              "       ['2'],\n",
              "       ['2'],\n",
              "       ['1'],\n",
              "       ['2'],\n",
              "       ['2'],\n",
              "       ['2'],\n",
              "       ['2'],\n",
              "       ['2'],\n",
              "       ['2'],\n",
              "       ['2'],\n",
              "       ['2'],\n",
              "       ['2'],\n",
              "       ['1'],\n",
              "       ['1'],\n",
              "       ['2'],\n",
              "       ['2'],\n",
              "       ['1'],\n",
              "       ['2'],\n",
              "       ['1'],\n",
              "       ['1'],\n",
              "       ['2'],\n",
              "       ['Undrafted'],\n",
              "       ['2'],\n",
              "       ['1'],\n",
              "       ['1'],\n",
              "       ['2'],\n",
              "       ['Undrafted'],\n",
              "       ['1'],\n",
              "       ['2'],\n",
              "       ['Undrafted'],\n",
              "       ['2'],\n",
              "       ['Undrafted'],\n",
              "       ['2'],\n",
              "       ['Undrafted'],\n",
              "       ['2'],\n",
              "       ['1'],\n",
              "       ['2'],\n",
              "       ['Undrafted'],\n",
              "       ['2'],\n",
              "       ['Undrafted'],\n",
              "       ['Undrafted'],\n",
              "       ['2'],\n",
              "       ['Undrafted'],\n",
              "       ['2'],\n",
              "       ['2'],\n",
              "       ['Undrafted'],\n",
              "       ['2'],\n",
              "       ['2'],\n",
              "       ['2'],\n",
              "       ['Undrafted'],\n",
              "       ['2'],\n",
              "       ['Undrafted'],\n",
              "       ['Undrafted'],\n",
              "       ['Undrafted'],\n",
              "       ['1'],\n",
              "       ['2'],\n",
              "       ['1'],\n",
              "       ['1'],\n",
              "       ['1'],\n",
              "       ['1'],\n",
              "       ['1'],\n",
              "       ['1'],\n",
              "       ['1'],\n",
              "       ['1'],\n",
              "       ['1'],\n",
              "       ['1'],\n",
              "       ['1'],\n",
              "       ['1'],\n",
              "       ['1']], dtype=object)"
            ]
          },
          "metadata": {},
          "execution_count": 47
        }
      ]
    },
    {
      "cell_type": "markdown",
      "source": [
        "**4.2 Categorical Encoding**\n",
        "\n",
        "Choose One Hot Encoding or Label Encoding for perform categorical encoding\n",
        "\n",
        "**One-Hot Encoding for data input x**"
      ],
      "metadata": {
        "id": "-KhD3RU7qniq"
      }
    },
    {
      "cell_type": "code",
      "source": [
        "x = pd.get_dummies(x)\n",
        "x"
      ],
      "metadata": {
        "colab": {
          "base_uri": "https://localhost:8080/",
          "height": 505
        },
        "id": "y_K5f2vyqNef",
        "outputId": "ae2e212c-dff3-4518-8097-d3f69c483dfa"
      },
      "execution_count": 48,
      "outputs": [
        {
          "output_type": "execute_result",
          "data": {
            "text/plain": [
              "     rating  draft_year  full_name_Aaron Gordon  full_name_Aaron Holiday  \\\n",
              "11       90        2014                       0                        0   \n",
              "12       90        2008                       0                        0   \n",
              "13       89        2011                       0                        0   \n",
              "14       89        2015                       0                        0   \n",
              "15       88        2011                       0                        0   \n",
              "..      ...         ...                     ...                      ...   \n",
              "459      88        2005                       0                        0   \n",
              "460      88        2012                       0                        0   \n",
              "461      87        2013                       0                        0   \n",
              "462      87        2006                       0                        0   \n",
              "463      87        2015                       0                        0   \n",
              "\n",
              "     full_name_Abdel Nader  full_name_Admiral Schofield  full_name_Al Horford  \\\n",
              "11                       0                            0                     0   \n",
              "12                       0                            0                     0   \n",
              "13                       0                            0                     0   \n",
              "14                       0                            0                     0   \n",
              "15                       0                            0                     0   \n",
              "..                     ...                          ...                   ...   \n",
              "459                      0                            0                     0   \n",
              "460                      0                            0                     0   \n",
              "461                      0                            0                     0   \n",
              "462                      0                            0                     0   \n",
              "463                      0                            0                     0   \n",
              "\n",
              "     full_name_Al-Farouq Aminu  full_name_Alec Burks  \\\n",
              "11                           0                     0   \n",
              "12                           0                     0   \n",
              "13                           0                     0   \n",
              "14                           0                     0   \n",
              "15                           0                     0   \n",
              "..                         ...                   ...   \n",
              "459                          0                     0   \n",
              "460                          0                     0   \n",
              "461                          0                     0   \n",
              "462                          0                     0   \n",
              "463                          0                     0   \n",
              "\n",
              "     full_name_Alen Smailagic  ...  draft_peak_55  draft_peak_58  \\\n",
              "11                          0  ...              0              0   \n",
              "12                          0  ...              0              0   \n",
              "13                          0  ...              0              0   \n",
              "14                          0  ...              0              0   \n",
              "15                          0  ...              0              0   \n",
              "..                        ...  ...            ...            ...   \n",
              "459                         0  ...              0              0   \n",
              "460                         0  ...              0              0   \n",
              "461                         0  ...              0              0   \n",
              "462                         0  ...              0              0   \n",
              "463                         0  ...              0              0   \n",
              "\n",
              "     draft_peak_6  draft_peak_60  draft_peak_7  draft_peak_8  draft_peak_9  \\\n",
              "11              0              0             0             0             0   \n",
              "12              0              0             0             0             0   \n",
              "13              0              0             0             0             0   \n",
              "14              0              0             0             0             0   \n",
              "15              0              0             0             0             0   \n",
              "..            ...            ...           ...           ...           ...   \n",
              "459             0              0             0             0             0   \n",
              "460             0              0             0             0             0   \n",
              "461             0              0             0             0             0   \n",
              "462             0              0             0             0             0   \n",
              "463             0              0             0             0             0   \n",
              "\n",
              "     draft_peak_Undrafted  version_NBA2k20  version_NBA2k21  \n",
              "11                      0                1                0  \n",
              "12                      0                1                0  \n",
              "13                      0                1                0  \n",
              "14                      0                1                0  \n",
              "15                      0                1                0  \n",
              "..                    ...              ...              ...  \n",
              "459                     0                0                1  \n",
              "460                     0                0                1  \n",
              "461                     0                0                1  \n",
              "462                     0                0                1  \n",
              "463                     0                0                1  \n",
              "\n",
              "[428 rows x 1389 columns]"
            ],
            "text/html": [
              "\n",
              "  <div id=\"df-a6a45adf-227a-4f54-9c74-98d084582ea0\">\n",
              "    <div class=\"colab-df-container\">\n",
              "      <div>\n",
              "<style scoped>\n",
              "    .dataframe tbody tr th:only-of-type {\n",
              "        vertical-align: middle;\n",
              "    }\n",
              "\n",
              "    .dataframe tbody tr th {\n",
              "        vertical-align: top;\n",
              "    }\n",
              "\n",
              "    .dataframe thead th {\n",
              "        text-align: right;\n",
              "    }\n",
              "</style>\n",
              "<table border=\"1\" class=\"dataframe\">\n",
              "  <thead>\n",
              "    <tr style=\"text-align: right;\">\n",
              "      <th></th>\n",
              "      <th>rating</th>\n",
              "      <th>draft_year</th>\n",
              "      <th>full_name_Aaron Gordon</th>\n",
              "      <th>full_name_Aaron Holiday</th>\n",
              "      <th>full_name_Abdel Nader</th>\n",
              "      <th>full_name_Admiral Schofield</th>\n",
              "      <th>full_name_Al Horford</th>\n",
              "      <th>full_name_Al-Farouq Aminu</th>\n",
              "      <th>full_name_Alec Burks</th>\n",
              "      <th>full_name_Alen Smailagic</th>\n",
              "      <th>...</th>\n",
              "      <th>draft_peak_55</th>\n",
              "      <th>draft_peak_58</th>\n",
              "      <th>draft_peak_6</th>\n",
              "      <th>draft_peak_60</th>\n",
              "      <th>draft_peak_7</th>\n",
              "      <th>draft_peak_8</th>\n",
              "      <th>draft_peak_9</th>\n",
              "      <th>draft_peak_Undrafted</th>\n",
              "      <th>version_NBA2k20</th>\n",
              "      <th>version_NBA2k21</th>\n",
              "    </tr>\n",
              "  </thead>\n",
              "  <tbody>\n",
              "    <tr>\n",
              "      <th>11</th>\n",
              "      <td>90</td>\n",
              "      <td>2014</td>\n",
              "      <td>0</td>\n",
              "      <td>0</td>\n",
              "      <td>0</td>\n",
              "      <td>0</td>\n",
              "      <td>0</td>\n",
              "      <td>0</td>\n",
              "      <td>0</td>\n",
              "      <td>0</td>\n",
              "      <td>...</td>\n",
              "      <td>0</td>\n",
              "      <td>0</td>\n",
              "      <td>0</td>\n",
              "      <td>0</td>\n",
              "      <td>0</td>\n",
              "      <td>0</td>\n",
              "      <td>0</td>\n",
              "      <td>0</td>\n",
              "      <td>1</td>\n",
              "      <td>0</td>\n",
              "    </tr>\n",
              "    <tr>\n",
              "      <th>12</th>\n",
              "      <td>90</td>\n",
              "      <td>2008</td>\n",
              "      <td>0</td>\n",
              "      <td>0</td>\n",
              "      <td>0</td>\n",
              "      <td>0</td>\n",
              "      <td>0</td>\n",
              "      <td>0</td>\n",
              "      <td>0</td>\n",
              "      <td>0</td>\n",
              "      <td>...</td>\n",
              "      <td>0</td>\n",
              "      <td>0</td>\n",
              "      <td>0</td>\n",
              "      <td>0</td>\n",
              "      <td>0</td>\n",
              "      <td>0</td>\n",
              "      <td>0</td>\n",
              "      <td>0</td>\n",
              "      <td>1</td>\n",
              "      <td>0</td>\n",
              "    </tr>\n",
              "    <tr>\n",
              "      <th>13</th>\n",
              "      <td>89</td>\n",
              "      <td>2011</td>\n",
              "      <td>0</td>\n",
              "      <td>0</td>\n",
              "      <td>0</td>\n",
              "      <td>0</td>\n",
              "      <td>0</td>\n",
              "      <td>0</td>\n",
              "      <td>0</td>\n",
              "      <td>0</td>\n",
              "      <td>...</td>\n",
              "      <td>0</td>\n",
              "      <td>0</td>\n",
              "      <td>0</td>\n",
              "      <td>0</td>\n",
              "      <td>0</td>\n",
              "      <td>0</td>\n",
              "      <td>0</td>\n",
              "      <td>0</td>\n",
              "      <td>1</td>\n",
              "      <td>0</td>\n",
              "    </tr>\n",
              "    <tr>\n",
              "      <th>14</th>\n",
              "      <td>89</td>\n",
              "      <td>2015</td>\n",
              "      <td>0</td>\n",
              "      <td>0</td>\n",
              "      <td>0</td>\n",
              "      <td>0</td>\n",
              "      <td>0</td>\n",
              "      <td>0</td>\n",
              "      <td>0</td>\n",
              "      <td>0</td>\n",
              "      <td>...</td>\n",
              "      <td>0</td>\n",
              "      <td>0</td>\n",
              "      <td>0</td>\n",
              "      <td>0</td>\n",
              "      <td>0</td>\n",
              "      <td>0</td>\n",
              "      <td>0</td>\n",
              "      <td>0</td>\n",
              "      <td>1</td>\n",
              "      <td>0</td>\n",
              "    </tr>\n",
              "    <tr>\n",
              "      <th>15</th>\n",
              "      <td>88</td>\n",
              "      <td>2011</td>\n",
              "      <td>0</td>\n",
              "      <td>0</td>\n",
              "      <td>0</td>\n",
              "      <td>0</td>\n",
              "      <td>0</td>\n",
              "      <td>0</td>\n",
              "      <td>0</td>\n",
              "      <td>0</td>\n",
              "      <td>...</td>\n",
              "      <td>0</td>\n",
              "      <td>0</td>\n",
              "      <td>0</td>\n",
              "      <td>0</td>\n",
              "      <td>0</td>\n",
              "      <td>0</td>\n",
              "      <td>0</td>\n",
              "      <td>0</td>\n",
              "      <td>1</td>\n",
              "      <td>0</td>\n",
              "    </tr>\n",
              "    <tr>\n",
              "      <th>...</th>\n",
              "      <td>...</td>\n",
              "      <td>...</td>\n",
              "      <td>...</td>\n",
              "      <td>...</td>\n",
              "      <td>...</td>\n",
              "      <td>...</td>\n",
              "      <td>...</td>\n",
              "      <td>...</td>\n",
              "      <td>...</td>\n",
              "      <td>...</td>\n",
              "      <td>...</td>\n",
              "      <td>...</td>\n",
              "      <td>...</td>\n",
              "      <td>...</td>\n",
              "      <td>...</td>\n",
              "      <td>...</td>\n",
              "      <td>...</td>\n",
              "      <td>...</td>\n",
              "      <td>...</td>\n",
              "      <td>...</td>\n",
              "      <td>...</td>\n",
              "    </tr>\n",
              "    <tr>\n",
              "      <th>459</th>\n",
              "      <td>88</td>\n",
              "      <td>2005</td>\n",
              "      <td>0</td>\n",
              "      <td>0</td>\n",
              "      <td>0</td>\n",
              "      <td>0</td>\n",
              "      <td>0</td>\n",
              "      <td>0</td>\n",
              "      <td>0</td>\n",
              "      <td>0</td>\n",
              "      <td>...</td>\n",
              "      <td>0</td>\n",
              "      <td>0</td>\n",
              "      <td>0</td>\n",
              "      <td>0</td>\n",
              "      <td>0</td>\n",
              "      <td>0</td>\n",
              "      <td>0</td>\n",
              "      <td>0</td>\n",
              "      <td>0</td>\n",
              "      <td>1</td>\n",
              "    </tr>\n",
              "    <tr>\n",
              "      <th>460</th>\n",
              "      <td>88</td>\n",
              "      <td>2012</td>\n",
              "      <td>0</td>\n",
              "      <td>0</td>\n",
              "      <td>0</td>\n",
              "      <td>0</td>\n",
              "      <td>0</td>\n",
              "      <td>0</td>\n",
              "      <td>0</td>\n",
              "      <td>0</td>\n",
              "      <td>...</td>\n",
              "      <td>0</td>\n",
              "      <td>0</td>\n",
              "      <td>0</td>\n",
              "      <td>0</td>\n",
              "      <td>0</td>\n",
              "      <td>0</td>\n",
              "      <td>0</td>\n",
              "      <td>0</td>\n",
              "      <td>0</td>\n",
              "      <td>1</td>\n",
              "    </tr>\n",
              "    <tr>\n",
              "      <th>461</th>\n",
              "      <td>87</td>\n",
              "      <td>2013</td>\n",
              "      <td>0</td>\n",
              "      <td>0</td>\n",
              "      <td>0</td>\n",
              "      <td>0</td>\n",
              "      <td>0</td>\n",
              "      <td>0</td>\n",
              "      <td>0</td>\n",
              "      <td>0</td>\n",
              "      <td>...</td>\n",
              "      <td>0</td>\n",
              "      <td>0</td>\n",
              "      <td>0</td>\n",
              "      <td>0</td>\n",
              "      <td>0</td>\n",
              "      <td>0</td>\n",
              "      <td>0</td>\n",
              "      <td>0</td>\n",
              "      <td>0</td>\n",
              "      <td>1</td>\n",
              "    </tr>\n",
              "    <tr>\n",
              "      <th>462</th>\n",
              "      <td>87</td>\n",
              "      <td>2006</td>\n",
              "      <td>0</td>\n",
              "      <td>0</td>\n",
              "      <td>0</td>\n",
              "      <td>0</td>\n",
              "      <td>0</td>\n",
              "      <td>0</td>\n",
              "      <td>0</td>\n",
              "      <td>0</td>\n",
              "      <td>...</td>\n",
              "      <td>0</td>\n",
              "      <td>0</td>\n",
              "      <td>0</td>\n",
              "      <td>0</td>\n",
              "      <td>0</td>\n",
              "      <td>0</td>\n",
              "      <td>0</td>\n",
              "      <td>0</td>\n",
              "      <td>0</td>\n",
              "      <td>1</td>\n",
              "    </tr>\n",
              "    <tr>\n",
              "      <th>463</th>\n",
              "      <td>87</td>\n",
              "      <td>2015</td>\n",
              "      <td>0</td>\n",
              "      <td>0</td>\n",
              "      <td>0</td>\n",
              "      <td>0</td>\n",
              "      <td>0</td>\n",
              "      <td>0</td>\n",
              "      <td>0</td>\n",
              "      <td>0</td>\n",
              "      <td>...</td>\n",
              "      <td>0</td>\n",
              "      <td>0</td>\n",
              "      <td>0</td>\n",
              "      <td>0</td>\n",
              "      <td>0</td>\n",
              "      <td>0</td>\n",
              "      <td>0</td>\n",
              "      <td>0</td>\n",
              "      <td>0</td>\n",
              "      <td>1</td>\n",
              "    </tr>\n",
              "  </tbody>\n",
              "</table>\n",
              "<p>428 rows × 1389 columns</p>\n",
              "</div>\n",
              "      <button class=\"colab-df-convert\" onclick=\"convertToInteractive('df-a6a45adf-227a-4f54-9c74-98d084582ea0')\"\n",
              "              title=\"Convert this dataframe to an interactive table.\"\n",
              "              style=\"display:none;\">\n",
              "        \n",
              "  <svg xmlns=\"http://www.w3.org/2000/svg\" height=\"24px\"viewBox=\"0 0 24 24\"\n",
              "       width=\"24px\">\n",
              "    <path d=\"M0 0h24v24H0V0z\" fill=\"none\"/>\n",
              "    <path d=\"M18.56 5.44l.94 2.06.94-2.06 2.06-.94-2.06-.94-.94-2.06-.94 2.06-2.06.94zm-11 1L8.5 8.5l.94-2.06 2.06-.94-2.06-.94L8.5 2.5l-.94 2.06-2.06.94zm10 10l.94 2.06.94-2.06 2.06-.94-2.06-.94-.94-2.06-.94 2.06-2.06.94z\"/><path d=\"M17.41 7.96l-1.37-1.37c-.4-.4-.92-.59-1.43-.59-.52 0-1.04.2-1.43.59L10.3 9.45l-7.72 7.72c-.78.78-.78 2.05 0 2.83L4 21.41c.39.39.9.59 1.41.59.51 0 1.02-.2 1.41-.59l7.78-7.78 2.81-2.81c.8-.78.8-2.07 0-2.86zM5.41 20L4 18.59l7.72-7.72 1.47 1.35L5.41 20z\"/>\n",
              "  </svg>\n",
              "      </button>\n",
              "      \n",
              "  <style>\n",
              "    .colab-df-container {\n",
              "      display:flex;\n",
              "      flex-wrap:wrap;\n",
              "      gap: 12px;\n",
              "    }\n",
              "\n",
              "    .colab-df-convert {\n",
              "      background-color: #E8F0FE;\n",
              "      border: none;\n",
              "      border-radius: 50%;\n",
              "      cursor: pointer;\n",
              "      display: none;\n",
              "      fill: #1967D2;\n",
              "      height: 32px;\n",
              "      padding: 0 0 0 0;\n",
              "      width: 32px;\n",
              "    }\n",
              "\n",
              "    .colab-df-convert:hover {\n",
              "      background-color: #E2EBFA;\n",
              "      box-shadow: 0px 1px 2px rgba(60, 64, 67, 0.3), 0px 1px 3px 1px rgba(60, 64, 67, 0.15);\n",
              "      fill: #174EA6;\n",
              "    }\n",
              "\n",
              "    [theme=dark] .colab-df-convert {\n",
              "      background-color: #3B4455;\n",
              "      fill: #D2E3FC;\n",
              "    }\n",
              "\n",
              "    [theme=dark] .colab-df-convert:hover {\n",
              "      background-color: #434B5C;\n",
              "      box-shadow: 0px 1px 3px 1px rgba(0, 0, 0, 0.15);\n",
              "      filter: drop-shadow(0px 1px 2px rgba(0, 0, 0, 0.3));\n",
              "      fill: #FFFFFF;\n",
              "    }\n",
              "  </style>\n",
              "\n",
              "      <script>\n",
              "        const buttonEl =\n",
              "          document.querySelector('#df-a6a45adf-227a-4f54-9c74-98d084582ea0 button.colab-df-convert');\n",
              "        buttonEl.style.display =\n",
              "          google.colab.kernel.accessAllowed ? 'block' : 'none';\n",
              "\n",
              "        async function convertToInteractive(key) {\n",
              "          const element = document.querySelector('#df-a6a45adf-227a-4f54-9c74-98d084582ea0');\n",
              "          const dataTable =\n",
              "            await google.colab.kernel.invokeFunction('convertToInteractive',\n",
              "                                                     [key], {});\n",
              "          if (!dataTable) return;\n",
              "\n",
              "          const docLinkHtml = 'Like what you see? Visit the ' +\n",
              "            '<a target=\"_blank\" href=https://colab.research.google.com/notebooks/data_table.ipynb>data table notebook</a>'\n",
              "            + ' to learn more about interactive tables.';\n",
              "          element.innerHTML = '';\n",
              "          dataTable['output_type'] = 'display_data';\n",
              "          await google.colab.output.renderOutput(dataTable, element);\n",
              "          const docLink = document.createElement('div');\n",
              "          docLink.innerHTML = docLinkHtml;\n",
              "          element.appendChild(docLink);\n",
              "        }\n",
              "      </script>\n",
              "    </div>\n",
              "  </div>\n",
              "  "
            ]
          },
          "metadata": {},
          "execution_count": 48
        }
      ]
    },
    {
      "cell_type": "code",
      "source": [
        "x.shape"
      ],
      "metadata": {
        "colab": {
          "base_uri": "https://localhost:8080/"
        },
        "id": "bTWosUkWqZyG",
        "outputId": "a1c60501-bb0b-4001-d9e8-2e0769955d16"
      },
      "execution_count": 49,
      "outputs": [
        {
          "output_type": "execute_result",
          "data": {
            "text/plain": [
              "(428, 1389)"
            ]
          },
          "metadata": {},
          "execution_count": 49
        }
      ]
    },
    {
      "cell_type": "markdown",
      "source": [
        "**4.2.1 Standarization**"
      ],
      "metadata": {
        "id": "BuOZc5O6GUJz"
      }
    },
    {
      "cell_type": "markdown",
      "source": [
        "Standardization is used on the data values that are normally distributed. Further, by applying standardization, we tend to make the mean of the dataset as 0 and the standard deviation equivalent to 1.\n",
        "\n",
        "That is, by standardizing the values, we get the following statistics of the data distribution\n",
        "\n",
        "mean = 0\n",
        "standard deviation = 1\n",
        "\n",
        "Thus, by this the data set becomes self explanatory and easy to analyze as the mean turns down to 0 and it happens to have an unit variance.\n",
        "\n",
        "References: https://www.askpython.com/python/examples/standardize-data-in-python#:~:text=Ways%20to%20Standardize%20Data%20in%20Python%201%201.,load_iris%20...%202%202.%20Using%20StandardScaler%20%28%29%20function"
      ],
      "metadata": {
        "id": "B4NxpFrsHDmP"
      }
    },
    {
      "cell_type": "code",
      "source": [
        "from sklearn.preprocessing import StandardScaler\n",
        "std_scale = StandardScaler().fit_transform(x)\n",
        "std_scale = pd.DataFrame(std_scale)\n",
        "\n",
        "std_scale"
      ],
      "metadata": {
        "colab": {
          "base_uri": "https://localhost:8080/",
          "height": 487
        },
        "id": "GR-GhzRXGRNg",
        "outputId": "24ffb27c-c6ff-48de-a3f0-bc9cec618b05"
      },
      "execution_count": 50,
      "outputs": [
        {
          "output_type": "execute_result",
          "data": {
            "text/plain": [
              "         0         1         2         3         4         5         6     \\\n",
              "0    2.549028 -0.070192 -0.048393 -0.048393 -0.048393 -0.048393 -0.048393   \n",
              "1    2.549028 -1.679586 -0.048393 -0.048393 -0.048393 -0.048393 -0.048393   \n",
              "2    2.362343 -0.874889 -0.048393 -0.048393 -0.048393 -0.048393 -0.048393   \n",
              "3    2.362343  0.198041 -0.048393 -0.048393 -0.048393 -0.048393 -0.048393   \n",
              "4    2.175659 -0.874889 -0.048393 -0.048393 -0.048393 -0.048393 -0.048393   \n",
              "..        ...       ...       ...       ...       ...       ...       ...   \n",
              "423  2.175659 -2.484283 -0.048393 -0.048393 -0.048393 -0.048393 -0.048393   \n",
              "424  2.175659 -0.606656 -0.048393 -0.048393 -0.048393 -0.048393 -0.048393   \n",
              "425  1.988975 -0.338424 -0.048393 -0.048393 -0.048393 -0.048393 -0.048393   \n",
              "426  1.988975 -2.216050 -0.048393 -0.048393 -0.048393 -0.048393 -0.048393   \n",
              "427  1.988975  0.198041 -0.048393 -0.048393 -0.048393 -0.048393 -0.048393   \n",
              "\n",
              "         7         8         9     ...      1379      1380      1381  \\\n",
              "0   -0.048393 -0.048393 -0.048393  ... -0.068519 -0.084017 -0.138013   \n",
              "1   -0.048393 -0.048393 -0.048393  ... -0.068519 -0.084017 -0.138013   \n",
              "2   -0.048393 -0.048393 -0.048393  ... -0.068519 -0.084017 -0.138013   \n",
              "3   -0.048393 -0.048393 -0.048393  ... -0.068519 -0.084017 -0.138013   \n",
              "4   -0.048393 -0.048393 -0.048393  ... -0.068519 -0.084017 -0.138013   \n",
              "..        ...       ...       ...  ...       ...       ...       ...   \n",
              "423 -0.048393 -0.048393 -0.048393  ... -0.068519 -0.084017 -0.138013   \n",
              "424 -0.048393 -0.048393 -0.048393  ... -0.068519 -0.084017 -0.138013   \n",
              "425 -0.048393 -0.048393 -0.048393  ... -0.068519 -0.084017 -0.138013   \n",
              "426 -0.048393 -0.048393 -0.048393  ... -0.068519 -0.084017 -0.138013   \n",
              "427 -0.048393 -0.048393 -0.048393  ... -0.068519 -0.084017 -0.138013   \n",
              "\n",
              "         1382      1383     1384      1385      1386      1387      1388  \n",
              "0   -0.084017 -0.154672 -0.14656 -0.169842 -0.430808  0.190577 -0.190577  \n",
              "1   -0.084017 -0.154672 -0.14656 -0.169842 -0.430808  0.190577 -0.190577  \n",
              "2   -0.084017 -0.154672 -0.14656 -0.169842 -0.430808  0.190577 -0.190577  \n",
              "3   -0.084017 -0.154672 -0.14656 -0.169842 -0.430808  0.190577 -0.190577  \n",
              "4   -0.084017 -0.154672 -0.14656 -0.169842 -0.430808  0.190577 -0.190577  \n",
              "..        ...       ...      ...       ...       ...       ...       ...  \n",
              "423 -0.084017 -0.154672 -0.14656 -0.169842 -0.430808 -5.247221  5.247221  \n",
              "424 -0.084017 -0.154672 -0.14656 -0.169842 -0.430808 -5.247221  5.247221  \n",
              "425 -0.084017 -0.154672 -0.14656 -0.169842 -0.430808 -5.247221  5.247221  \n",
              "426 -0.084017 -0.154672 -0.14656 -0.169842 -0.430808 -5.247221  5.247221  \n",
              "427 -0.084017 -0.154672 -0.14656 -0.169842 -0.430808 -5.247221  5.247221  \n",
              "\n",
              "[428 rows x 1389 columns]"
            ],
            "text/html": [
              "\n",
              "  <div id=\"df-267c5b9e-dff0-45fa-a851-a40c3bdb5a4f\">\n",
              "    <div class=\"colab-df-container\">\n",
              "      <div>\n",
              "<style scoped>\n",
              "    .dataframe tbody tr th:only-of-type {\n",
              "        vertical-align: middle;\n",
              "    }\n",
              "\n",
              "    .dataframe tbody tr th {\n",
              "        vertical-align: top;\n",
              "    }\n",
              "\n",
              "    .dataframe thead th {\n",
              "        text-align: right;\n",
              "    }\n",
              "</style>\n",
              "<table border=\"1\" class=\"dataframe\">\n",
              "  <thead>\n",
              "    <tr style=\"text-align: right;\">\n",
              "      <th></th>\n",
              "      <th>0</th>\n",
              "      <th>1</th>\n",
              "      <th>2</th>\n",
              "      <th>3</th>\n",
              "      <th>4</th>\n",
              "      <th>5</th>\n",
              "      <th>6</th>\n",
              "      <th>7</th>\n",
              "      <th>8</th>\n",
              "      <th>9</th>\n",
              "      <th>...</th>\n",
              "      <th>1379</th>\n",
              "      <th>1380</th>\n",
              "      <th>1381</th>\n",
              "      <th>1382</th>\n",
              "      <th>1383</th>\n",
              "      <th>1384</th>\n",
              "      <th>1385</th>\n",
              "      <th>1386</th>\n",
              "      <th>1387</th>\n",
              "      <th>1388</th>\n",
              "    </tr>\n",
              "  </thead>\n",
              "  <tbody>\n",
              "    <tr>\n",
              "      <th>0</th>\n",
              "      <td>2.549028</td>\n",
              "      <td>-0.070192</td>\n",
              "      <td>-0.048393</td>\n",
              "      <td>-0.048393</td>\n",
              "      <td>-0.048393</td>\n",
              "      <td>-0.048393</td>\n",
              "      <td>-0.048393</td>\n",
              "      <td>-0.048393</td>\n",
              "      <td>-0.048393</td>\n",
              "      <td>-0.048393</td>\n",
              "      <td>...</td>\n",
              "      <td>-0.068519</td>\n",
              "      <td>-0.084017</td>\n",
              "      <td>-0.138013</td>\n",
              "      <td>-0.084017</td>\n",
              "      <td>-0.154672</td>\n",
              "      <td>-0.14656</td>\n",
              "      <td>-0.169842</td>\n",
              "      <td>-0.430808</td>\n",
              "      <td>0.190577</td>\n",
              "      <td>-0.190577</td>\n",
              "    </tr>\n",
              "    <tr>\n",
              "      <th>1</th>\n",
              "      <td>2.549028</td>\n",
              "      <td>-1.679586</td>\n",
              "      <td>-0.048393</td>\n",
              "      <td>-0.048393</td>\n",
              "      <td>-0.048393</td>\n",
              "      <td>-0.048393</td>\n",
              "      <td>-0.048393</td>\n",
              "      <td>-0.048393</td>\n",
              "      <td>-0.048393</td>\n",
              "      <td>-0.048393</td>\n",
              "      <td>...</td>\n",
              "      <td>-0.068519</td>\n",
              "      <td>-0.084017</td>\n",
              "      <td>-0.138013</td>\n",
              "      <td>-0.084017</td>\n",
              "      <td>-0.154672</td>\n",
              "      <td>-0.14656</td>\n",
              "      <td>-0.169842</td>\n",
              "      <td>-0.430808</td>\n",
              "      <td>0.190577</td>\n",
              "      <td>-0.190577</td>\n",
              "    </tr>\n",
              "    <tr>\n",
              "      <th>2</th>\n",
              "      <td>2.362343</td>\n",
              "      <td>-0.874889</td>\n",
              "      <td>-0.048393</td>\n",
              "      <td>-0.048393</td>\n",
              "      <td>-0.048393</td>\n",
              "      <td>-0.048393</td>\n",
              "      <td>-0.048393</td>\n",
              "      <td>-0.048393</td>\n",
              "      <td>-0.048393</td>\n",
              "      <td>-0.048393</td>\n",
              "      <td>...</td>\n",
              "      <td>-0.068519</td>\n",
              "      <td>-0.084017</td>\n",
              "      <td>-0.138013</td>\n",
              "      <td>-0.084017</td>\n",
              "      <td>-0.154672</td>\n",
              "      <td>-0.14656</td>\n",
              "      <td>-0.169842</td>\n",
              "      <td>-0.430808</td>\n",
              "      <td>0.190577</td>\n",
              "      <td>-0.190577</td>\n",
              "    </tr>\n",
              "    <tr>\n",
              "      <th>3</th>\n",
              "      <td>2.362343</td>\n",
              "      <td>0.198041</td>\n",
              "      <td>-0.048393</td>\n",
              "      <td>-0.048393</td>\n",
              "      <td>-0.048393</td>\n",
              "      <td>-0.048393</td>\n",
              "      <td>-0.048393</td>\n",
              "      <td>-0.048393</td>\n",
              "      <td>-0.048393</td>\n",
              "      <td>-0.048393</td>\n",
              "      <td>...</td>\n",
              "      <td>-0.068519</td>\n",
              "      <td>-0.084017</td>\n",
              "      <td>-0.138013</td>\n",
              "      <td>-0.084017</td>\n",
              "      <td>-0.154672</td>\n",
              "      <td>-0.14656</td>\n",
              "      <td>-0.169842</td>\n",
              "      <td>-0.430808</td>\n",
              "      <td>0.190577</td>\n",
              "      <td>-0.190577</td>\n",
              "    </tr>\n",
              "    <tr>\n",
              "      <th>4</th>\n",
              "      <td>2.175659</td>\n",
              "      <td>-0.874889</td>\n",
              "      <td>-0.048393</td>\n",
              "      <td>-0.048393</td>\n",
              "      <td>-0.048393</td>\n",
              "      <td>-0.048393</td>\n",
              "      <td>-0.048393</td>\n",
              "      <td>-0.048393</td>\n",
              "      <td>-0.048393</td>\n",
              "      <td>-0.048393</td>\n",
              "      <td>...</td>\n",
              "      <td>-0.068519</td>\n",
              "      <td>-0.084017</td>\n",
              "      <td>-0.138013</td>\n",
              "      <td>-0.084017</td>\n",
              "      <td>-0.154672</td>\n",
              "      <td>-0.14656</td>\n",
              "      <td>-0.169842</td>\n",
              "      <td>-0.430808</td>\n",
              "      <td>0.190577</td>\n",
              "      <td>-0.190577</td>\n",
              "    </tr>\n",
              "    <tr>\n",
              "      <th>...</th>\n",
              "      <td>...</td>\n",
              "      <td>...</td>\n",
              "      <td>...</td>\n",
              "      <td>...</td>\n",
              "      <td>...</td>\n",
              "      <td>...</td>\n",
              "      <td>...</td>\n",
              "      <td>...</td>\n",
              "      <td>...</td>\n",
              "      <td>...</td>\n",
              "      <td>...</td>\n",
              "      <td>...</td>\n",
              "      <td>...</td>\n",
              "      <td>...</td>\n",
              "      <td>...</td>\n",
              "      <td>...</td>\n",
              "      <td>...</td>\n",
              "      <td>...</td>\n",
              "      <td>...</td>\n",
              "      <td>...</td>\n",
              "      <td>...</td>\n",
              "    </tr>\n",
              "    <tr>\n",
              "      <th>423</th>\n",
              "      <td>2.175659</td>\n",
              "      <td>-2.484283</td>\n",
              "      <td>-0.048393</td>\n",
              "      <td>-0.048393</td>\n",
              "      <td>-0.048393</td>\n",
              "      <td>-0.048393</td>\n",
              "      <td>-0.048393</td>\n",
              "      <td>-0.048393</td>\n",
              "      <td>-0.048393</td>\n",
              "      <td>-0.048393</td>\n",
              "      <td>...</td>\n",
              "      <td>-0.068519</td>\n",
              "      <td>-0.084017</td>\n",
              "      <td>-0.138013</td>\n",
              "      <td>-0.084017</td>\n",
              "      <td>-0.154672</td>\n",
              "      <td>-0.14656</td>\n",
              "      <td>-0.169842</td>\n",
              "      <td>-0.430808</td>\n",
              "      <td>-5.247221</td>\n",
              "      <td>5.247221</td>\n",
              "    </tr>\n",
              "    <tr>\n",
              "      <th>424</th>\n",
              "      <td>2.175659</td>\n",
              "      <td>-0.606656</td>\n",
              "      <td>-0.048393</td>\n",
              "      <td>-0.048393</td>\n",
              "      <td>-0.048393</td>\n",
              "      <td>-0.048393</td>\n",
              "      <td>-0.048393</td>\n",
              "      <td>-0.048393</td>\n",
              "      <td>-0.048393</td>\n",
              "      <td>-0.048393</td>\n",
              "      <td>...</td>\n",
              "      <td>-0.068519</td>\n",
              "      <td>-0.084017</td>\n",
              "      <td>-0.138013</td>\n",
              "      <td>-0.084017</td>\n",
              "      <td>-0.154672</td>\n",
              "      <td>-0.14656</td>\n",
              "      <td>-0.169842</td>\n",
              "      <td>-0.430808</td>\n",
              "      <td>-5.247221</td>\n",
              "      <td>5.247221</td>\n",
              "    </tr>\n",
              "    <tr>\n",
              "      <th>425</th>\n",
              "      <td>1.988975</td>\n",
              "      <td>-0.338424</td>\n",
              "      <td>-0.048393</td>\n",
              "      <td>-0.048393</td>\n",
              "      <td>-0.048393</td>\n",
              "      <td>-0.048393</td>\n",
              "      <td>-0.048393</td>\n",
              "      <td>-0.048393</td>\n",
              "      <td>-0.048393</td>\n",
              "      <td>-0.048393</td>\n",
              "      <td>...</td>\n",
              "      <td>-0.068519</td>\n",
              "      <td>-0.084017</td>\n",
              "      <td>-0.138013</td>\n",
              "      <td>-0.084017</td>\n",
              "      <td>-0.154672</td>\n",
              "      <td>-0.14656</td>\n",
              "      <td>-0.169842</td>\n",
              "      <td>-0.430808</td>\n",
              "      <td>-5.247221</td>\n",
              "      <td>5.247221</td>\n",
              "    </tr>\n",
              "    <tr>\n",
              "      <th>426</th>\n",
              "      <td>1.988975</td>\n",
              "      <td>-2.216050</td>\n",
              "      <td>-0.048393</td>\n",
              "      <td>-0.048393</td>\n",
              "      <td>-0.048393</td>\n",
              "      <td>-0.048393</td>\n",
              "      <td>-0.048393</td>\n",
              "      <td>-0.048393</td>\n",
              "      <td>-0.048393</td>\n",
              "      <td>-0.048393</td>\n",
              "      <td>...</td>\n",
              "      <td>-0.068519</td>\n",
              "      <td>-0.084017</td>\n",
              "      <td>-0.138013</td>\n",
              "      <td>-0.084017</td>\n",
              "      <td>-0.154672</td>\n",
              "      <td>-0.14656</td>\n",
              "      <td>-0.169842</td>\n",
              "      <td>-0.430808</td>\n",
              "      <td>-5.247221</td>\n",
              "      <td>5.247221</td>\n",
              "    </tr>\n",
              "    <tr>\n",
              "      <th>427</th>\n",
              "      <td>1.988975</td>\n",
              "      <td>0.198041</td>\n",
              "      <td>-0.048393</td>\n",
              "      <td>-0.048393</td>\n",
              "      <td>-0.048393</td>\n",
              "      <td>-0.048393</td>\n",
              "      <td>-0.048393</td>\n",
              "      <td>-0.048393</td>\n",
              "      <td>-0.048393</td>\n",
              "      <td>-0.048393</td>\n",
              "      <td>...</td>\n",
              "      <td>-0.068519</td>\n",
              "      <td>-0.084017</td>\n",
              "      <td>-0.138013</td>\n",
              "      <td>-0.084017</td>\n",
              "      <td>-0.154672</td>\n",
              "      <td>-0.14656</td>\n",
              "      <td>-0.169842</td>\n",
              "      <td>-0.430808</td>\n",
              "      <td>-5.247221</td>\n",
              "      <td>5.247221</td>\n",
              "    </tr>\n",
              "  </tbody>\n",
              "</table>\n",
              "<p>428 rows × 1389 columns</p>\n",
              "</div>\n",
              "      <button class=\"colab-df-convert\" onclick=\"convertToInteractive('df-267c5b9e-dff0-45fa-a851-a40c3bdb5a4f')\"\n",
              "              title=\"Convert this dataframe to an interactive table.\"\n",
              "              style=\"display:none;\">\n",
              "        \n",
              "  <svg xmlns=\"http://www.w3.org/2000/svg\" height=\"24px\"viewBox=\"0 0 24 24\"\n",
              "       width=\"24px\">\n",
              "    <path d=\"M0 0h24v24H0V0z\" fill=\"none\"/>\n",
              "    <path d=\"M18.56 5.44l.94 2.06.94-2.06 2.06-.94-2.06-.94-.94-2.06-.94 2.06-2.06.94zm-11 1L8.5 8.5l.94-2.06 2.06-.94-2.06-.94L8.5 2.5l-.94 2.06-2.06.94zm10 10l.94 2.06.94-2.06 2.06-.94-2.06-.94-.94-2.06-.94 2.06-2.06.94z\"/><path d=\"M17.41 7.96l-1.37-1.37c-.4-.4-.92-.59-1.43-.59-.52 0-1.04.2-1.43.59L10.3 9.45l-7.72 7.72c-.78.78-.78 2.05 0 2.83L4 21.41c.39.39.9.59 1.41.59.51 0 1.02-.2 1.41-.59l7.78-7.78 2.81-2.81c.8-.78.8-2.07 0-2.86zM5.41 20L4 18.59l7.72-7.72 1.47 1.35L5.41 20z\"/>\n",
              "  </svg>\n",
              "      </button>\n",
              "      \n",
              "  <style>\n",
              "    .colab-df-container {\n",
              "      display:flex;\n",
              "      flex-wrap:wrap;\n",
              "      gap: 12px;\n",
              "    }\n",
              "\n",
              "    .colab-df-convert {\n",
              "      background-color: #E8F0FE;\n",
              "      border: none;\n",
              "      border-radius: 50%;\n",
              "      cursor: pointer;\n",
              "      display: none;\n",
              "      fill: #1967D2;\n",
              "      height: 32px;\n",
              "      padding: 0 0 0 0;\n",
              "      width: 32px;\n",
              "    }\n",
              "\n",
              "    .colab-df-convert:hover {\n",
              "      background-color: #E2EBFA;\n",
              "      box-shadow: 0px 1px 2px rgba(60, 64, 67, 0.3), 0px 1px 3px 1px rgba(60, 64, 67, 0.15);\n",
              "      fill: #174EA6;\n",
              "    }\n",
              "\n",
              "    [theme=dark] .colab-df-convert {\n",
              "      background-color: #3B4455;\n",
              "      fill: #D2E3FC;\n",
              "    }\n",
              "\n",
              "    [theme=dark] .colab-df-convert:hover {\n",
              "      background-color: #434B5C;\n",
              "      box-shadow: 0px 1px 3px 1px rgba(0, 0, 0, 0.15);\n",
              "      filter: drop-shadow(0px 1px 2px rgba(0, 0, 0, 0.3));\n",
              "      fill: #FFFFFF;\n",
              "    }\n",
              "  </style>\n",
              "\n",
              "      <script>\n",
              "        const buttonEl =\n",
              "          document.querySelector('#df-267c5b9e-dff0-45fa-a851-a40c3bdb5a4f button.colab-df-convert');\n",
              "        buttonEl.style.display =\n",
              "          google.colab.kernel.accessAllowed ? 'block' : 'none';\n",
              "\n",
              "        async function convertToInteractive(key) {\n",
              "          const element = document.querySelector('#df-267c5b9e-dff0-45fa-a851-a40c3bdb5a4f');\n",
              "          const dataTable =\n",
              "            await google.colab.kernel.invokeFunction('convertToInteractive',\n",
              "                                                     [key], {});\n",
              "          if (!dataTable) return;\n",
              "\n",
              "          const docLinkHtml = 'Like what you see? Visit the ' +\n",
              "            '<a target=\"_blank\" href=https://colab.research.google.com/notebooks/data_table.ipynb>data table notebook</a>'\n",
              "            + ' to learn more about interactive tables.';\n",
              "          element.innerHTML = '';\n",
              "          dataTable['output_type'] = 'display_data';\n",
              "          await google.colab.output.renderOutput(dataTable, element);\n",
              "          const docLink = document.createElement('div');\n",
              "          docLink.innerHTML = docLinkHtml;\n",
              "          element.appendChild(docLink);\n",
              "        }\n",
              "      </script>\n",
              "    </div>\n",
              "  </div>\n",
              "  "
            ]
          },
          "metadata": {},
          "execution_count": 50
        }
      ]
    },
    {
      "cell_type": "markdown",
      "source": [
        "**4.2.2 Normalization**\n",
        "\n",
        "A way to normalize the input features/variables is the Min-Max scaler. By doing so, all features will be transformed into the range [0,1] meaning that the minimum and maximum value of a feature/variable is going to be 0 and 1, respectively.\n",
        "\n",
        "The main idea behind normalization/standardization is always the same. Variables that are measured at different scales do not contribute equally to the model fitting & model learned function and might end up creating a bias. Thus, to deal with this potential problem feature-wise normalization such as MinMax Scaling is usually used prior to model fitting.\n",
        "\n",
        "reference : https://stackoverflow.com/questions/62178888/can-someone-explain-to-me-how-minmaxscaler-works\n"
      ],
      "metadata": {
        "id": "AdhBeaKIFLfN"
      }
    },
    {
      "cell_type": "code",
      "source": [
        "from sklearn.preprocessing import MinMaxScaler\n",
        "x = MinMaxScaler().fit_transform(x)\n",
        "x = pd.DataFrame(x)\n",
        "\n",
        "x"
      ],
      "metadata": {
        "id": "gtFKYb9DlEhV",
        "colab": {
          "base_uri": "https://localhost:8080/",
          "height": 423
        },
        "outputId": "fdaebf69-39b1-4e79-dd26-54cf620c3713"
      },
      "execution_count": 51,
      "outputs": [
        {
          "output_type": "execute_result",
          "data": {
            "text/plain": [
              "         0         1     2     3     4     5     6     7     8     9     ...  \\\n",
              "0    1.000000  0.642857   0.0   0.0   0.0   0.0   0.0   0.0   0.0   0.0  ...   \n",
              "1    1.000000  0.214286   0.0   0.0   0.0   0.0   0.0   0.0   0.0   0.0  ...   \n",
              "2    0.956522  0.428571   0.0   0.0   0.0   0.0   0.0   0.0   0.0   0.0  ...   \n",
              "3    0.956522  0.714286   0.0   0.0   0.0   0.0   0.0   0.0   0.0   0.0  ...   \n",
              "4    0.913043  0.428571   0.0   0.0   0.0   0.0   0.0   0.0   0.0   0.0  ...   \n",
              "..        ...       ...   ...   ...   ...   ...   ...   ...   ...   ...  ...   \n",
              "423  0.913043  0.000000   0.0   0.0   0.0   0.0   0.0   0.0   0.0   0.0  ...   \n",
              "424  0.913043  0.500000   0.0   0.0   0.0   0.0   0.0   0.0   0.0   0.0  ...   \n",
              "425  0.869565  0.571429   0.0   0.0   0.0   0.0   0.0   0.0   0.0   0.0  ...   \n",
              "426  0.869565  0.071429   0.0   0.0   0.0   0.0   0.0   0.0   0.0   0.0  ...   \n",
              "427  0.869565  0.714286   0.0   0.0   0.0   0.0   0.0   0.0   0.0   0.0  ...   \n",
              "\n",
              "     1379  1380  1381  1382  1383  1384  1385  1386  1387  1388  \n",
              "0     0.0   0.0   0.0   0.0   0.0   0.0   0.0   0.0   1.0   0.0  \n",
              "1     0.0   0.0   0.0   0.0   0.0   0.0   0.0   0.0   1.0   0.0  \n",
              "2     0.0   0.0   0.0   0.0   0.0   0.0   0.0   0.0   1.0   0.0  \n",
              "3     0.0   0.0   0.0   0.0   0.0   0.0   0.0   0.0   1.0   0.0  \n",
              "4     0.0   0.0   0.0   0.0   0.0   0.0   0.0   0.0   1.0   0.0  \n",
              "..    ...   ...   ...   ...   ...   ...   ...   ...   ...   ...  \n",
              "423   0.0   0.0   0.0   0.0   0.0   0.0   0.0   0.0   0.0   1.0  \n",
              "424   0.0   0.0   0.0   0.0   0.0   0.0   0.0   0.0   0.0   1.0  \n",
              "425   0.0   0.0   0.0   0.0   0.0   0.0   0.0   0.0   0.0   1.0  \n",
              "426   0.0   0.0   0.0   0.0   0.0   0.0   0.0   0.0   0.0   1.0  \n",
              "427   0.0   0.0   0.0   0.0   0.0   0.0   0.0   0.0   0.0   1.0  \n",
              "\n",
              "[428 rows x 1389 columns]"
            ],
            "text/html": [
              "\n",
              "  <div id=\"df-de57e1e7-0378-4a0d-b0f9-53e444b461be\">\n",
              "    <div class=\"colab-df-container\">\n",
              "      <div>\n",
              "<style scoped>\n",
              "    .dataframe tbody tr th:only-of-type {\n",
              "        vertical-align: middle;\n",
              "    }\n",
              "\n",
              "    .dataframe tbody tr th {\n",
              "        vertical-align: top;\n",
              "    }\n",
              "\n",
              "    .dataframe thead th {\n",
              "        text-align: right;\n",
              "    }\n",
              "</style>\n",
              "<table border=\"1\" class=\"dataframe\">\n",
              "  <thead>\n",
              "    <tr style=\"text-align: right;\">\n",
              "      <th></th>\n",
              "      <th>0</th>\n",
              "      <th>1</th>\n",
              "      <th>2</th>\n",
              "      <th>3</th>\n",
              "      <th>4</th>\n",
              "      <th>5</th>\n",
              "      <th>6</th>\n",
              "      <th>7</th>\n",
              "      <th>8</th>\n",
              "      <th>9</th>\n",
              "      <th>...</th>\n",
              "      <th>1379</th>\n",
              "      <th>1380</th>\n",
              "      <th>1381</th>\n",
              "      <th>1382</th>\n",
              "      <th>1383</th>\n",
              "      <th>1384</th>\n",
              "      <th>1385</th>\n",
              "      <th>1386</th>\n",
              "      <th>1387</th>\n",
              "      <th>1388</th>\n",
              "    </tr>\n",
              "  </thead>\n",
              "  <tbody>\n",
              "    <tr>\n",
              "      <th>0</th>\n",
              "      <td>1.000000</td>\n",
              "      <td>0.642857</td>\n",
              "      <td>0.0</td>\n",
              "      <td>0.0</td>\n",
              "      <td>0.0</td>\n",
              "      <td>0.0</td>\n",
              "      <td>0.0</td>\n",
              "      <td>0.0</td>\n",
              "      <td>0.0</td>\n",
              "      <td>0.0</td>\n",
              "      <td>...</td>\n",
              "      <td>0.0</td>\n",
              "      <td>0.0</td>\n",
              "      <td>0.0</td>\n",
              "      <td>0.0</td>\n",
              "      <td>0.0</td>\n",
              "      <td>0.0</td>\n",
              "      <td>0.0</td>\n",
              "      <td>0.0</td>\n",
              "      <td>1.0</td>\n",
              "      <td>0.0</td>\n",
              "    </tr>\n",
              "    <tr>\n",
              "      <th>1</th>\n",
              "      <td>1.000000</td>\n",
              "      <td>0.214286</td>\n",
              "      <td>0.0</td>\n",
              "      <td>0.0</td>\n",
              "      <td>0.0</td>\n",
              "      <td>0.0</td>\n",
              "      <td>0.0</td>\n",
              "      <td>0.0</td>\n",
              "      <td>0.0</td>\n",
              "      <td>0.0</td>\n",
              "      <td>...</td>\n",
              "      <td>0.0</td>\n",
              "      <td>0.0</td>\n",
              "      <td>0.0</td>\n",
              "      <td>0.0</td>\n",
              "      <td>0.0</td>\n",
              "      <td>0.0</td>\n",
              "      <td>0.0</td>\n",
              "      <td>0.0</td>\n",
              "      <td>1.0</td>\n",
              "      <td>0.0</td>\n",
              "    </tr>\n",
              "    <tr>\n",
              "      <th>2</th>\n",
              "      <td>0.956522</td>\n",
              "      <td>0.428571</td>\n",
              "      <td>0.0</td>\n",
              "      <td>0.0</td>\n",
              "      <td>0.0</td>\n",
              "      <td>0.0</td>\n",
              "      <td>0.0</td>\n",
              "      <td>0.0</td>\n",
              "      <td>0.0</td>\n",
              "      <td>0.0</td>\n",
              "      <td>...</td>\n",
              "      <td>0.0</td>\n",
              "      <td>0.0</td>\n",
              "      <td>0.0</td>\n",
              "      <td>0.0</td>\n",
              "      <td>0.0</td>\n",
              "      <td>0.0</td>\n",
              "      <td>0.0</td>\n",
              "      <td>0.0</td>\n",
              "      <td>1.0</td>\n",
              "      <td>0.0</td>\n",
              "    </tr>\n",
              "    <tr>\n",
              "      <th>3</th>\n",
              "      <td>0.956522</td>\n",
              "      <td>0.714286</td>\n",
              "      <td>0.0</td>\n",
              "      <td>0.0</td>\n",
              "      <td>0.0</td>\n",
              "      <td>0.0</td>\n",
              "      <td>0.0</td>\n",
              "      <td>0.0</td>\n",
              "      <td>0.0</td>\n",
              "      <td>0.0</td>\n",
              "      <td>...</td>\n",
              "      <td>0.0</td>\n",
              "      <td>0.0</td>\n",
              "      <td>0.0</td>\n",
              "      <td>0.0</td>\n",
              "      <td>0.0</td>\n",
              "      <td>0.0</td>\n",
              "      <td>0.0</td>\n",
              "      <td>0.0</td>\n",
              "      <td>1.0</td>\n",
              "      <td>0.0</td>\n",
              "    </tr>\n",
              "    <tr>\n",
              "      <th>4</th>\n",
              "      <td>0.913043</td>\n",
              "      <td>0.428571</td>\n",
              "      <td>0.0</td>\n",
              "      <td>0.0</td>\n",
              "      <td>0.0</td>\n",
              "      <td>0.0</td>\n",
              "      <td>0.0</td>\n",
              "      <td>0.0</td>\n",
              "      <td>0.0</td>\n",
              "      <td>0.0</td>\n",
              "      <td>...</td>\n",
              "      <td>0.0</td>\n",
              "      <td>0.0</td>\n",
              "      <td>0.0</td>\n",
              "      <td>0.0</td>\n",
              "      <td>0.0</td>\n",
              "      <td>0.0</td>\n",
              "      <td>0.0</td>\n",
              "      <td>0.0</td>\n",
              "      <td>1.0</td>\n",
              "      <td>0.0</td>\n",
              "    </tr>\n",
              "    <tr>\n",
              "      <th>...</th>\n",
              "      <td>...</td>\n",
              "      <td>...</td>\n",
              "      <td>...</td>\n",
              "      <td>...</td>\n",
              "      <td>...</td>\n",
              "      <td>...</td>\n",
              "      <td>...</td>\n",
              "      <td>...</td>\n",
              "      <td>...</td>\n",
              "      <td>...</td>\n",
              "      <td>...</td>\n",
              "      <td>...</td>\n",
              "      <td>...</td>\n",
              "      <td>...</td>\n",
              "      <td>...</td>\n",
              "      <td>...</td>\n",
              "      <td>...</td>\n",
              "      <td>...</td>\n",
              "      <td>...</td>\n",
              "      <td>...</td>\n",
              "      <td>...</td>\n",
              "    </tr>\n",
              "    <tr>\n",
              "      <th>423</th>\n",
              "      <td>0.913043</td>\n",
              "      <td>0.000000</td>\n",
              "      <td>0.0</td>\n",
              "      <td>0.0</td>\n",
              "      <td>0.0</td>\n",
              "      <td>0.0</td>\n",
              "      <td>0.0</td>\n",
              "      <td>0.0</td>\n",
              "      <td>0.0</td>\n",
              "      <td>0.0</td>\n",
              "      <td>...</td>\n",
              "      <td>0.0</td>\n",
              "      <td>0.0</td>\n",
              "      <td>0.0</td>\n",
              "      <td>0.0</td>\n",
              "      <td>0.0</td>\n",
              "      <td>0.0</td>\n",
              "      <td>0.0</td>\n",
              "      <td>0.0</td>\n",
              "      <td>0.0</td>\n",
              "      <td>1.0</td>\n",
              "    </tr>\n",
              "    <tr>\n",
              "      <th>424</th>\n",
              "      <td>0.913043</td>\n",
              "      <td>0.500000</td>\n",
              "      <td>0.0</td>\n",
              "      <td>0.0</td>\n",
              "      <td>0.0</td>\n",
              "      <td>0.0</td>\n",
              "      <td>0.0</td>\n",
              "      <td>0.0</td>\n",
              "      <td>0.0</td>\n",
              "      <td>0.0</td>\n",
              "      <td>...</td>\n",
              "      <td>0.0</td>\n",
              "      <td>0.0</td>\n",
              "      <td>0.0</td>\n",
              "      <td>0.0</td>\n",
              "      <td>0.0</td>\n",
              "      <td>0.0</td>\n",
              "      <td>0.0</td>\n",
              "      <td>0.0</td>\n",
              "      <td>0.0</td>\n",
              "      <td>1.0</td>\n",
              "    </tr>\n",
              "    <tr>\n",
              "      <th>425</th>\n",
              "      <td>0.869565</td>\n",
              "      <td>0.571429</td>\n",
              "      <td>0.0</td>\n",
              "      <td>0.0</td>\n",
              "      <td>0.0</td>\n",
              "      <td>0.0</td>\n",
              "      <td>0.0</td>\n",
              "      <td>0.0</td>\n",
              "      <td>0.0</td>\n",
              "      <td>0.0</td>\n",
              "      <td>...</td>\n",
              "      <td>0.0</td>\n",
              "      <td>0.0</td>\n",
              "      <td>0.0</td>\n",
              "      <td>0.0</td>\n",
              "      <td>0.0</td>\n",
              "      <td>0.0</td>\n",
              "      <td>0.0</td>\n",
              "      <td>0.0</td>\n",
              "      <td>0.0</td>\n",
              "      <td>1.0</td>\n",
              "    </tr>\n",
              "    <tr>\n",
              "      <th>426</th>\n",
              "      <td>0.869565</td>\n",
              "      <td>0.071429</td>\n",
              "      <td>0.0</td>\n",
              "      <td>0.0</td>\n",
              "      <td>0.0</td>\n",
              "      <td>0.0</td>\n",
              "      <td>0.0</td>\n",
              "      <td>0.0</td>\n",
              "      <td>0.0</td>\n",
              "      <td>0.0</td>\n",
              "      <td>...</td>\n",
              "      <td>0.0</td>\n",
              "      <td>0.0</td>\n",
              "      <td>0.0</td>\n",
              "      <td>0.0</td>\n",
              "      <td>0.0</td>\n",
              "      <td>0.0</td>\n",
              "      <td>0.0</td>\n",
              "      <td>0.0</td>\n",
              "      <td>0.0</td>\n",
              "      <td>1.0</td>\n",
              "    </tr>\n",
              "    <tr>\n",
              "      <th>427</th>\n",
              "      <td>0.869565</td>\n",
              "      <td>0.714286</td>\n",
              "      <td>0.0</td>\n",
              "      <td>0.0</td>\n",
              "      <td>0.0</td>\n",
              "      <td>0.0</td>\n",
              "      <td>0.0</td>\n",
              "      <td>0.0</td>\n",
              "      <td>0.0</td>\n",
              "      <td>0.0</td>\n",
              "      <td>...</td>\n",
              "      <td>0.0</td>\n",
              "      <td>0.0</td>\n",
              "      <td>0.0</td>\n",
              "      <td>0.0</td>\n",
              "      <td>0.0</td>\n",
              "      <td>0.0</td>\n",
              "      <td>0.0</td>\n",
              "      <td>0.0</td>\n",
              "      <td>0.0</td>\n",
              "      <td>1.0</td>\n",
              "    </tr>\n",
              "  </tbody>\n",
              "</table>\n",
              "<p>428 rows × 1389 columns</p>\n",
              "</div>\n",
              "      <button class=\"colab-df-convert\" onclick=\"convertToInteractive('df-de57e1e7-0378-4a0d-b0f9-53e444b461be')\"\n",
              "              title=\"Convert this dataframe to an interactive table.\"\n",
              "              style=\"display:none;\">\n",
              "        \n",
              "  <svg xmlns=\"http://www.w3.org/2000/svg\" height=\"24px\"viewBox=\"0 0 24 24\"\n",
              "       width=\"24px\">\n",
              "    <path d=\"M0 0h24v24H0V0z\" fill=\"none\"/>\n",
              "    <path d=\"M18.56 5.44l.94 2.06.94-2.06 2.06-.94-2.06-.94-.94-2.06-.94 2.06-2.06.94zm-11 1L8.5 8.5l.94-2.06 2.06-.94-2.06-.94L8.5 2.5l-.94 2.06-2.06.94zm10 10l.94 2.06.94-2.06 2.06-.94-2.06-.94-.94-2.06-.94 2.06-2.06.94z\"/><path d=\"M17.41 7.96l-1.37-1.37c-.4-.4-.92-.59-1.43-.59-.52 0-1.04.2-1.43.59L10.3 9.45l-7.72 7.72c-.78.78-.78 2.05 0 2.83L4 21.41c.39.39.9.59 1.41.59.51 0 1.02-.2 1.41-.59l7.78-7.78 2.81-2.81c.8-.78.8-2.07 0-2.86zM5.41 20L4 18.59l7.72-7.72 1.47 1.35L5.41 20z\"/>\n",
              "  </svg>\n",
              "      </button>\n",
              "      \n",
              "  <style>\n",
              "    .colab-df-container {\n",
              "      display:flex;\n",
              "      flex-wrap:wrap;\n",
              "      gap: 12px;\n",
              "    }\n",
              "\n",
              "    .colab-df-convert {\n",
              "      background-color: #E8F0FE;\n",
              "      border: none;\n",
              "      border-radius: 50%;\n",
              "      cursor: pointer;\n",
              "      display: none;\n",
              "      fill: #1967D2;\n",
              "      height: 32px;\n",
              "      padding: 0 0 0 0;\n",
              "      width: 32px;\n",
              "    }\n",
              "\n",
              "    .colab-df-convert:hover {\n",
              "      background-color: #E2EBFA;\n",
              "      box-shadow: 0px 1px 2px rgba(60, 64, 67, 0.3), 0px 1px 3px 1px rgba(60, 64, 67, 0.15);\n",
              "      fill: #174EA6;\n",
              "    }\n",
              "\n",
              "    [theme=dark] .colab-df-convert {\n",
              "      background-color: #3B4455;\n",
              "      fill: #D2E3FC;\n",
              "    }\n",
              "\n",
              "    [theme=dark] .colab-df-convert:hover {\n",
              "      background-color: #434B5C;\n",
              "      box-shadow: 0px 1px 3px 1px rgba(0, 0, 0, 0.15);\n",
              "      filter: drop-shadow(0px 1px 2px rgba(0, 0, 0, 0.3));\n",
              "      fill: #FFFFFF;\n",
              "    }\n",
              "  </style>\n",
              "\n",
              "      <script>\n",
              "        const buttonEl =\n",
              "          document.querySelector('#df-de57e1e7-0378-4a0d-b0f9-53e444b461be button.colab-df-convert');\n",
              "        buttonEl.style.display =\n",
              "          google.colab.kernel.accessAllowed ? 'block' : 'none';\n",
              "\n",
              "        async function convertToInteractive(key) {\n",
              "          const element = document.querySelector('#df-de57e1e7-0378-4a0d-b0f9-53e444b461be');\n",
              "          const dataTable =\n",
              "            await google.colab.kernel.invokeFunction('convertToInteractive',\n",
              "                                                     [key], {});\n",
              "          if (!dataTable) return;\n",
              "\n",
              "          const docLinkHtml = 'Like what you see? Visit the ' +\n",
              "            '<a target=\"_blank\" href=https://colab.research.google.com/notebooks/data_table.ipynb>data table notebook</a>'\n",
              "            + ' to learn more about interactive tables.';\n",
              "          element.innerHTML = '';\n",
              "          dataTable['output_type'] = 'display_data';\n",
              "          await google.colab.output.renderOutput(dataTable, element);\n",
              "          const docLink = document.createElement('div');\n",
              "          docLink.innerHTML = docLinkHtml;\n",
              "          element.appendChild(docLink);\n",
              "        }\n",
              "      </script>\n",
              "    </div>\n",
              "  </div>\n",
              "  "
            ]
          },
          "metadata": {},
          "execution_count": 51
        }
      ]
    },
    {
      "cell_type": "markdown",
      "source": [
        "**4.3 Splitting**"
      ],
      "metadata": {
        "id": "U5mVChyqI7e9"
      }
    },
    {
      "cell_type": "code",
      "source": [
        "from sklearn.model_selection import train_test_split\n",
        "xTrain, xTest, yTrain, yTest = train_test_split(x, y, train_size=0.8, random_state=1, stratify=y)"
      ],
      "metadata": {
        "id": "ACJMGLAHigHI"
      },
      "execution_count": 52,
      "outputs": []
    },
    {
      "cell_type": "code",
      "source": [
        "from collections import Counter\n",
        "print(\"Train distribution\", Counter(yTrain))\n",
        "print(\"Test distribution\", Counter(yTest))"
      ],
      "metadata": {
        "colab": {
          "base_uri": "https://localhost:8080/"
        },
        "id": "sSICmqDpMomI",
        "outputId": "680dad36-fbc5-4b3e-cb31-6cbd365c25a6"
      },
      "execution_count": 53,
      "outputs": [
        {
          "output_type": "stream",
          "name": "stdout",
          "text": [
            "Train distribution Counter({'1': 205, '2': 83, 'Undrafted': 54})\n",
            "Test distribution Counter({'1': 52, '2': 21, 'Undrafted': 13})\n"
          ]
        }
      ]
    },
    {
      "cell_type": "markdown",
      "source": [
        "This stratify parameter makes a split so that the proportion of values in the sample produced will be the same as the proportion of values provided to parameter stratify.\n",
        "\n",
        "For example, if variable y is a binary categorical variable with values 0 and 1 and there are 25% of zeros and 75% of ones, stratify=y will make sure that your random split has 25% of 0's and 75% of 1's.\n",
        "\n",
        "For more: https://stackoverflow.com/questions/34842405/parameter-stratify-from-method-train-test-split-scikit-learn"
      ],
      "metadata": {
        "id": "QyCbWtbCI3v5"
      }
    },
    {
      "cell_type": "markdown",
      "source": [
        "Tugas praktekkan dengan dataset yg berbeda dari kaggle dan upload di github\n"
      ],
      "metadata": {
        "id": "an04NDqXOUHT"
      }
    },
    {
      "cell_type": "code",
      "source": [
        "from sklearn.linear_model import LogisticRegression\n",
        "\n",
        "models = []\n",
        "models.append(('LR', LogisticRegression()))"
      ],
      "metadata": {
        "id": "-9rDCS2vNw0D"
      },
      "execution_count": 54,
      "outputs": []
    },
    {
      "cell_type": "code",
      "source": [
        "results_c = []\n",
        "names_c = []\n",
        "\n",
        "for name, model in models:\n",
        "    # define how to split off validation data ('kfold' how many folds)\n",
        "    kfold = KFold(n_splits=10)    \n",
        "    # train the model\n",
        "    cv_results = cross_val_score(model, xTrain, yTrain, cv=kfold, scoring='accuracy')    \n",
        "    results_c.append(cv_results)\n",
        "    names_c.append(name)\n",
        "    msg = \"%s: %f (%f)\" % (name, cv_results.mean(), cv_results.std())\n",
        "    print(msg)"
      ],
      "metadata": {
        "colab": {
          "base_uri": "https://localhost:8080/"
        },
        "id": "4_yApp8fqKar",
        "outputId": "7d538fbf-7814-4b18-bc98-70b3163ae454"
      },
      "execution_count": 55,
      "outputs": [
        {
          "output_type": "stream",
          "name": "stdout",
          "text": [
            "LR: 0.880168 (0.055818)\n"
          ]
        }
      ]
    },
    {
      "cell_type": "code",
      "source": [
        "LR = LogisticRegression()\n",
        "LR.fit(xTrain, yTrain)"
      ],
      "metadata": {
        "colab": {
          "base_uri": "https://localhost:8080/",
          "height": 74
        },
        "id": "xQ1qS0elrBK6",
        "outputId": "e9cedd05-5fd2-4796-841b-699280579b0c"
      },
      "execution_count": 56,
      "outputs": [
        {
          "output_type": "execute_result",
          "data": {
            "text/plain": [
              "LogisticRegression()"
            ],
            "text/html": [
              "<style>#sk-container-id-2 {color: black;background-color: white;}#sk-container-id-2 pre{padding: 0;}#sk-container-id-2 div.sk-toggleable {background-color: white;}#sk-container-id-2 label.sk-toggleable__label {cursor: pointer;display: block;width: 100%;margin-bottom: 0;padding: 0.3em;box-sizing: border-box;text-align: center;}#sk-container-id-2 label.sk-toggleable__label-arrow:before {content: \"▸\";float: left;margin-right: 0.25em;color: #696969;}#sk-container-id-2 label.sk-toggleable__label-arrow:hover:before {color: black;}#sk-container-id-2 div.sk-estimator:hover label.sk-toggleable__label-arrow:before {color: black;}#sk-container-id-2 div.sk-toggleable__content {max-height: 0;max-width: 0;overflow: hidden;text-align: left;background-color: #f0f8ff;}#sk-container-id-2 div.sk-toggleable__content pre {margin: 0.2em;color: black;border-radius: 0.25em;background-color: #f0f8ff;}#sk-container-id-2 input.sk-toggleable__control:checked~div.sk-toggleable__content {max-height: 200px;max-width: 100%;overflow: auto;}#sk-container-id-2 input.sk-toggleable__control:checked~label.sk-toggleable__label-arrow:before {content: \"▾\";}#sk-container-id-2 div.sk-estimator input.sk-toggleable__control:checked~label.sk-toggleable__label {background-color: #d4ebff;}#sk-container-id-2 div.sk-label input.sk-toggleable__control:checked~label.sk-toggleable__label {background-color: #d4ebff;}#sk-container-id-2 input.sk-hidden--visually {border: 0;clip: rect(1px 1px 1px 1px);clip: rect(1px, 1px, 1px, 1px);height: 1px;margin: -1px;overflow: hidden;padding: 0;position: absolute;width: 1px;}#sk-container-id-2 div.sk-estimator {font-family: monospace;background-color: #f0f8ff;border: 1px dotted black;border-radius: 0.25em;box-sizing: border-box;margin-bottom: 0.5em;}#sk-container-id-2 div.sk-estimator:hover {background-color: #d4ebff;}#sk-container-id-2 div.sk-parallel-item::after {content: \"\";width: 100%;border-bottom: 1px solid gray;flex-grow: 1;}#sk-container-id-2 div.sk-label:hover label.sk-toggleable__label {background-color: #d4ebff;}#sk-container-id-2 div.sk-serial::before {content: \"\";position: absolute;border-left: 1px solid gray;box-sizing: border-box;top: 0;bottom: 0;left: 50%;z-index: 0;}#sk-container-id-2 div.sk-serial {display: flex;flex-direction: column;align-items: center;background-color: white;padding-right: 0.2em;padding-left: 0.2em;position: relative;}#sk-container-id-2 div.sk-item {position: relative;z-index: 1;}#sk-container-id-2 div.sk-parallel {display: flex;align-items: stretch;justify-content: center;background-color: white;position: relative;}#sk-container-id-2 div.sk-item::before, #sk-container-id-2 div.sk-parallel-item::before {content: \"\";position: absolute;border-left: 1px solid gray;box-sizing: border-box;top: 0;bottom: 0;left: 50%;z-index: -1;}#sk-container-id-2 div.sk-parallel-item {display: flex;flex-direction: column;z-index: 1;position: relative;background-color: white;}#sk-container-id-2 div.sk-parallel-item:first-child::after {align-self: flex-end;width: 50%;}#sk-container-id-2 div.sk-parallel-item:last-child::after {align-self: flex-start;width: 50%;}#sk-container-id-2 div.sk-parallel-item:only-child::after {width: 0;}#sk-container-id-2 div.sk-dashed-wrapped {border: 1px dashed gray;margin: 0 0.4em 0.5em 0.4em;box-sizing: border-box;padding-bottom: 0.4em;background-color: white;}#sk-container-id-2 div.sk-label label {font-family: monospace;font-weight: bold;display: inline-block;line-height: 1.2em;}#sk-container-id-2 div.sk-label-container {text-align: center;}#sk-container-id-2 div.sk-container {/* jupyter's `normalize.less` sets `[hidden] { display: none; }` but bootstrap.min.css set `[hidden] { display: none !important; }` so we also need the `!important` here to be able to override the default hidden behavior on the sphinx rendered scikit-learn.org. See: https://github.com/scikit-learn/scikit-learn/issues/21755 */display: inline-block !important;position: relative;}#sk-container-id-2 div.sk-text-repr-fallback {display: none;}</style><div id=\"sk-container-id-2\" class=\"sk-top-container\"><div class=\"sk-text-repr-fallback\"><pre>LogisticRegression()</pre><b>In a Jupyter environment, please rerun this cell to show the HTML representation or trust the notebook. <br />On GitHub, the HTML representation is unable to render, please try loading this page with nbviewer.org.</b></div><div class=\"sk-container\" hidden><div class=\"sk-item\"><div class=\"sk-estimator sk-toggleable\"><input class=\"sk-toggleable__control sk-hidden--visually\" id=\"sk-estimator-id-2\" type=\"checkbox\" checked><label for=\"sk-estimator-id-2\" class=\"sk-toggleable__label sk-toggleable__label-arrow\">LogisticRegression</label><div class=\"sk-toggleable__content\"><pre>LogisticRegression()</pre></div></div></div></div></div>"
            ]
          },
          "metadata": {},
          "execution_count": 56
        }
      ]
    },
    {
      "cell_type": "code",
      "source": [
        "predictions = LR.predict(xTest)\n",
        "print(accuracy_score(yTest, predictions))"
      ],
      "metadata": {
        "id": "08s4bURXrm0U",
        "colab": {
          "base_uri": "https://localhost:8080/"
        },
        "outputId": "54742e11-ae15-4e7c-9f37-ad9f8c4e1241"
      },
      "execution_count": 57,
      "outputs": [
        {
          "output_type": "stream",
          "name": "stdout",
          "text": [
            "0.9418604651162791\n"
          ]
        }
      ]
    },
    {
      "cell_type": "code",
      "source": [
        "# Confusion Matrix \n",
        "from sklearn.metrics import confusion_matrix\n",
        "import pylab as pl\n",
        "\n",
        "print(confusion_matrix(yTest, predictions))\n",
        "\n",
        "cm = confusion_matrix(yTest, predictions)\n",
        "pl.matshow(cm)\n",
        "pl.title('Confusion matrix of the classifier')\n",
        "pl.colorbar()\n",
        "pl.show()"
      ],
      "metadata": {
        "colab": {
          "base_uri": "https://localhost:8080/",
          "height": 724
        },
        "id": "Wh2-d2uCr17a",
        "outputId": "cbd95f6f-469e-426e-b566-47724ab7a126"
      },
      "execution_count": 58,
      "outputs": [
        {
          "output_type": "stream",
          "name": "stdout",
          "text": [
            "[[52  0  0]\n",
            " [ 5 16  0]\n",
            " [ 0  0 13]]\n"
          ]
        },
        {
          "output_type": "display_data",
          "data": {
            "text/plain": [
              "<Figure size 800x800 with 2 Axes>"
            ],
            "image/png": "[encoded data removed]"
          },
          "metadata": {}
        }
      ]
    },
    {
      "cell_type": "code",
      "source": [
        "# Classification Report\n",
        "from sklearn.metrics import classification_report\n",
        "print(classification_report(yTest, predictions))"
      ],
      "metadata": {
        "colab": {
          "base_uri": "https://localhost:8080/"
        },
        "id": "gL6HppHzsRBw",
        "outputId": "e8b30083-6352-4a6a-97f9-779290797e4f"
      },
      "execution_count": 59,
      "outputs": [
        {
          "output_type": "stream",
          "name": "stdout",
          "text": [
            "              precision    recall  f1-score   support\n",
            "\n",
            "           1       0.91      1.00      0.95        52\n",
            "           2       1.00      0.76      0.86        21\n",
            "   Undrafted       1.00      1.00      1.00        13\n",
            "\n",
            "    accuracy                           0.94        86\n",
            "   macro avg       0.97      0.92      0.94        86\n",
            "weighted avg       0.95      0.94      0.94        86\n",
            "\n"
          ]
        }
      ]
    },
    {
      "cell_type": "code",
      "execution_count": null,
      "metadata": {
        "id": "OxfpNV63imB-"
      },
      "outputs": [],
      "source": []
    }
  ],
  "metadata": {
    "accelerator": "TPU",
    "colab": {
      "provenance": [],
      "machine_shape": "hm",
      "include_colab_link": true
    },
    "kernelspec": {
      "display_name": "Python 3",
      "name": "python3"
    },
    "gpuClass": "premium"
  },
  "nbformat": 4,
  "nbformat_minor": 0
}